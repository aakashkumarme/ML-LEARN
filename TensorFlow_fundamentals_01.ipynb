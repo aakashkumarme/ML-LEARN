{
  "nbformat": 4,
  "nbformat_minor": 0,
  "metadata": {
    "colab": {
      "name": "TensorFlow_fundamentals_01.ipynb",
      "provenance": [],
      "collapsed_sections": [],
      "authorship_tag": "ABX9TyNPewhOURJK1/f5elTX02YS",
      "include_colab_link": true
    },
    "kernelspec": {
      "name": "python3",
      "display_name": "Python 3"
    },
    "language_info": {
      "name": "python"
    }
  },
  "cells": [
    {
      "cell_type": "markdown",
      "metadata": {
        "id": "view-in-github",
        "colab_type": "text"
      },
      "source": [
        "<a href=\"https://colab.research.google.com/github/aakashkumarme/TFLEARN/blob/main/TensorFlow_fundamentals_01.ipynb\" target=\"_parent\"><img src=\"https://colab.research.google.com/assets/colab-badge.svg\" alt=\"Open In Colab\"/></a>"
      ]
    },
    {
      "cell_type": "markdown",
      "metadata": {
        "id": "8dc9fYm9hkNy"
      },
      "source": [
        "**HANDS ON TENSOR FLOW & DEEP LEARNING**"
      ]
    },
    {
      "cell_type": "markdown",
      "metadata": {
        "id": "_zPR3gNZh9DC"
      },
      "source": [
        "Introduction to Tensors,\n",
        "Getting information from tensors,\n",
        "Manipulating Tensors,\n",
        "Tensors and Numpy,\n",
        "Using tf function,\n",
        "Using GPU,\n",
        "Excercise"
      ]
    },
    {
      "cell_type": "code",
      "metadata": {
        "colab": {
          "base_uri": "https://localhost:8080/"
        },
        "id": "l0PJ2hetiWL0",
        "outputId": "f55a2f43-7266-4e98-bc66-49ab0ffe1b99"
      },
      "source": [
        "#import TensorFow\n",
        "import tensorflow as tf\n",
        "print(tf.__version__)"
      ],
      "execution_count": null,
      "outputs": [
        {
          "output_type": "stream",
          "text": [
            "2.4.1\n"
          ],
          "name": "stdout"
        }
      ]
    },
    {
      "cell_type": "code",
      "metadata": {
        "colab": {
          "base_uri": "https://localhost:8080/"
        },
        "id": "QxEhbwYLkZps",
        "outputId": "4121a089-8801-4632-de62-78ce322f723a"
      },
      "source": [
        "#create tensor with tf.constant()\n",
        "scalar = tf.constant(7)\n",
        "scalar"
      ],
      "execution_count": null,
      "outputs": [
        {
          "output_type": "execute_result",
          "data": {
            "text/plain": [
              "<tf.Tensor: shape=(), dtype=int32, numpy=7>"
            ]
          },
          "metadata": {
            "tags": []
          },
          "execution_count": 2
        }
      ]
    },
    {
      "cell_type": "code",
      "metadata": {
        "colab": {
          "base_uri": "https://localhost:8080/"
        },
        "id": "Onu3QxAjkuHT",
        "outputId": "30958150-2a3d-46c5-8f3f-dac794cd1ed6"
      },
      "source": [
        "#Check number of dimension\n",
        "scalar.ndim"
      ],
      "execution_count": null,
      "outputs": [
        {
          "output_type": "execute_result",
          "data": {
            "text/plain": [
              "0"
            ]
          },
          "metadata": {
            "tags": []
          },
          "execution_count": 3
        }
      ]
    },
    {
      "cell_type": "code",
      "metadata": {
        "colab": {
          "base_uri": "https://localhost:8080/"
        },
        "id": "AaHB40V7lF-k",
        "outputId": "85467bdd-c0bb-4005-d75d-db5b8d05bd2e"
      },
      "source": [
        "#create a vector\n",
        "vector = tf.constant([10,10])\n",
        "vector"
      ],
      "execution_count": null,
      "outputs": [
        {
          "output_type": "execute_result",
          "data": {
            "text/plain": [
              "<tf.Tensor: shape=(2,), dtype=int32, numpy=array([10, 10], dtype=int32)>"
            ]
          },
          "metadata": {
            "tags": []
          },
          "execution_count": 4
        }
      ]
    },
    {
      "cell_type": "code",
      "metadata": {
        "colab": {
          "base_uri": "https://localhost:8080/"
        },
        "id": "TLDWtJPFlJal",
        "outputId": "4ab93d8b-b289-4668-e06b-5607ee223640"
      },
      "source": [
        "#check dimension of vector\n",
        "vector.ndim"
      ],
      "execution_count": null,
      "outputs": [
        {
          "output_type": "execute_result",
          "data": {
            "text/plain": [
              "1"
            ]
          },
          "metadata": {
            "tags": []
          },
          "execution_count": 5
        }
      ]
    },
    {
      "cell_type": "code",
      "metadata": {
        "colab": {
          "base_uri": "https://localhost:8080/"
        },
        "id": "UUo3DUCJlaB2",
        "outputId": "695eb7e2-fcf0-4b7f-a881-d4f3eae2827f"
      },
      "source": [
        "#create a matrix\n",
        "matrix = tf.constant([[10,7],\n",
        "                      [7,10]])\n",
        "matrix"
      ],
      "execution_count": null,
      "outputs": [
        {
          "output_type": "execute_result",
          "data": {
            "text/plain": [
              "<tf.Tensor: shape=(2, 2), dtype=int32, numpy=\n",
              "array([[10,  7],\n",
              "       [ 7, 10]], dtype=int32)>"
            ]
          },
          "metadata": {
            "tags": []
          },
          "execution_count": 6
        }
      ]
    },
    {
      "cell_type": "code",
      "metadata": {
        "colab": {
          "base_uri": "https://localhost:8080/"
        },
        "id": "mGP1Q_3dlnHS",
        "outputId": "8ef0920c-444a-4550-f7d5-84f8fcad003b"
      },
      "source": [
        "matrix.ndim"
      ],
      "execution_count": null,
      "outputs": [
        {
          "output_type": "execute_result",
          "data": {
            "text/plain": [
              "2"
            ]
          },
          "metadata": {
            "tags": []
          },
          "execution_count": 7
        }
      ]
    },
    {
      "cell_type": "code",
      "metadata": {
        "colab": {
          "base_uri": "https://localhost:8080/"
        },
        "id": "I6KYeXELl81Y",
        "outputId": "44011dee-cd81-44e0-ae4a-4566f639737c"
      },
      "source": [
        "#create another matrix\n",
        "another_matrix = tf.constant([[10.,7.],[3.,2.],[5.,3.]])\n",
        "another_matrix"
      ],
      "execution_count": null,
      "outputs": [
        {
          "output_type": "execute_result",
          "data": {
            "text/plain": [
              "<tf.Tensor: shape=(3, 2), dtype=float32, numpy=\n",
              "array([[10.,  7.],\n",
              "       [ 3.,  2.],\n",
              "       [ 5.,  3.]], dtype=float32)>"
            ]
          },
          "metadata": {
            "tags": []
          },
          "execution_count": 8
        }
      ]
    },
    {
      "cell_type": "code",
      "metadata": {
        "colab": {
          "base_uri": "https://localhost:8080/"
        },
        "id": "yx-dNIt5mY6N",
        "outputId": "644f395b-b1ca-408d-df92-62a7c08ab960"
      },
      "source": [
        "#Number of dimensions of another_matrix\n",
        "another_matrix.ndim"
      ],
      "execution_count": null,
      "outputs": [
        {
          "output_type": "execute_result",
          "data": {
            "text/plain": [
              "2"
            ]
          },
          "metadata": {
            "tags": []
          },
          "execution_count": 9
        }
      ]
    },
    {
      "cell_type": "code",
      "metadata": {
        "colab": {
          "base_uri": "https://localhost:8080/"
        },
        "id": "9zseQmhGmyCa",
        "outputId": "35ef5e38-afa2-4795-df22-9f5e1a461291"
      },
      "source": [
        "tensor = tf.constant([[[1,2,3],[4,5,6]],\n",
        "                      [[7,8,9],\n",
        "                       [10,11,12]],\n",
        "                      [[13,14,15],\n",
        "                       [16,17,18]]])\n",
        "tensor"
      ],
      "execution_count": null,
      "outputs": [
        {
          "output_type": "execute_result",
          "data": {
            "text/plain": [
              "<tf.Tensor: shape=(3, 2, 3), dtype=int32, numpy=\n",
              "array([[[ 1,  2,  3],\n",
              "        [ 4,  5,  6]],\n",
              "\n",
              "       [[ 7,  8,  9],\n",
              "        [10, 11, 12]],\n",
              "\n",
              "       [[13, 14, 15],\n",
              "        [16, 17, 18]]], dtype=int32)>"
            ]
          },
          "metadata": {
            "tags": []
          },
          "execution_count": 10
        }
      ]
    },
    {
      "cell_type": "code",
      "metadata": {
        "colab": {
          "base_uri": "https://localhost:8080/"
        },
        "id": "SyF4DGggn-r0",
        "outputId": "31632ed0-a642-4854-8729-5b912bbbbb8a"
      },
      "source": [
        "tensor.ndim"
      ],
      "execution_count": null,
      "outputs": [
        {
          "output_type": "execute_result",
          "data": {
            "text/plain": [
              "3"
            ]
          },
          "metadata": {
            "tags": []
          },
          "execution_count": 11
        }
      ]
    },
    {
      "cell_type": "markdown",
      "metadata": {
        "id": "L7EvmXNKoTas"
      },
      "source": [
        "Creating tensor with tf.variable"
      ]
    },
    {
      "cell_type": "code",
      "metadata": {
        "colab": {
          "base_uri": "https://localhost:8080/"
        },
        "id": "4pdrnm34pEvk",
        "outputId": "17a3e278-9eca-403c-e8de-523c3f8110a5"
      },
      "source": [
        "changeable_tensor = tf.Variable([10,7])\n",
        "unchangeable_tensor = tf.constant([10,7])\n",
        "changeable_tensor, unchangeable_tensor"
      ],
      "execution_count": null,
      "outputs": [
        {
          "output_type": "execute_result",
          "data": {
            "text/plain": [
              "(<tf.Variable 'Variable:0' shape=(2,) dtype=int32, numpy=array([10,  7], dtype=int32)>,\n",
              " <tf.Tensor: shape=(2,), dtype=int32, numpy=array([10,  7], dtype=int32)>)"
            ]
          },
          "metadata": {
            "tags": []
          },
          "execution_count": 12
        }
      ]
    },
    {
      "cell_type": "code",
      "metadata": {
        "colab": {
          "base_uri": "https://localhost:8080/"
        },
        "id": "YCuHCbyYpnp5",
        "outputId": "0cc04695-7718-426b-87de-8f4ee70fcd4f"
      },
      "source": [
        "changeable_tensor[0]"
      ],
      "execution_count": null,
      "outputs": [
        {
          "output_type": "execute_result",
          "data": {
            "text/plain": [
              "<tf.Tensor: shape=(), dtype=int32, numpy=10>"
            ]
          },
          "metadata": {
            "tags": []
          },
          "execution_count": 13
        }
      ]
    },
    {
      "cell_type": "code",
      "metadata": {
        "colab": {
          "base_uri": "https://localhost:8080/"
        },
        "id": "w8nw5GCTpuKV",
        "outputId": "8021cfc7-3303-45e0-d17d-0d26e8acd5d2"
      },
      "source": [
        "unchangeable_tensor[0]"
      ],
      "execution_count": null,
      "outputs": [
        {
          "output_type": "execute_result",
          "data": {
            "text/plain": [
              "<tf.Tensor: shape=(), dtype=int32, numpy=10>"
            ]
          },
          "metadata": {
            "tags": []
          },
          "execution_count": 14
        }
      ]
    },
    {
      "cell_type": "code",
      "metadata": {
        "colab": {
          "base_uri": "https://localhost:8080/",
          "height": 195
        },
        "id": "Wwr_vx_Cpz2G",
        "outputId": "a204f5d1-7529-44b8-92bb-4dd6d7a1eaca"
      },
      "source": [
        "#This kind of assignment is not supported\n",
        "changeable_tensor[0] = 9\n",
        "changeable_tensor"
      ],
      "execution_count": null,
      "outputs": [
        {
          "output_type": "error",
          "ename": "TypeError",
          "evalue": "ignored",
          "traceback": [
            "\u001b[0;31m---------------------------------------------------------------------------\u001b[0m",
            "\u001b[0;31mTypeError\u001b[0m                                 Traceback (most recent call last)",
            "\u001b[0;32m<ipython-input-15-372a9a38d55a>\u001b[0m in \u001b[0;36m<module>\u001b[0;34m()\u001b[0m\n\u001b[1;32m      1\u001b[0m \u001b[0;31m#This kind of assignment is not supported\u001b[0m\u001b[0;34m\u001b[0m\u001b[0;34m\u001b[0m\u001b[0;34m\u001b[0m\u001b[0m\n\u001b[0;32m----> 2\u001b[0;31m \u001b[0mchangeable_tensor\u001b[0m\u001b[0;34m[\u001b[0m\u001b[0;36m0\u001b[0m\u001b[0;34m]\u001b[0m \u001b[0;34m=\u001b[0m \u001b[0;36m9\u001b[0m\u001b[0;34m\u001b[0m\u001b[0;34m\u001b[0m\u001b[0m\n\u001b[0m\u001b[1;32m      3\u001b[0m \u001b[0mchangeable_tensor\u001b[0m\u001b[0;34m\u001b[0m\u001b[0;34m\u001b[0m\u001b[0m\n",
            "\u001b[0;31mTypeError\u001b[0m: 'ResourceVariable' object does not support item assignment"
          ]
        }
      ]
    },
    {
      "cell_type": "code",
      "metadata": {
        "id": "1kyYBjvfp-GI"
      },
      "source": [
        "changeable_tensor[0].assign(9)\n",
        "changeable_tensor"
      ],
      "execution_count": null,
      "outputs": []
    },
    {
      "cell_type": "code",
      "metadata": {
        "id": "mPOfd8uOqLa2"
      },
      "source": [
        "#Let's try to change an unchangeable tensor  --- Bamm! it wont work :P\n",
        "unchangeable_tensor[0].assign(10)\n"
      ],
      "execution_count": null,
      "outputs": []
    },
    {
      "cell_type": "markdown",
      "metadata": {
        "id": "8lNiYQCkqdqX"
      },
      "source": [
        "#Creating Random tensor"
      ]
    },
    {
      "cell_type": "code",
      "metadata": {
        "id": "YJbfa2lwq_x1"
      },
      "source": [
        "#Random tensors are tensors of arbitrary size which contain random numbers"
      ],
      "execution_count": null,
      "outputs": []
    },
    {
      "cell_type": "code",
      "metadata": {
        "id": "h9XcrbtDsD2o"
      },
      "source": [
        "random_1 = tf.random.Generator.from_seed(42)\n",
        "random_1 = random_1.normal(shape=(3,2))\n",
        "\n",
        "random_2 = tf.random.Generator.from_seed(42)\n",
        "random_2 = random_2.normal(shape=(3,2))\n",
        "\n",
        "random_1,random_2, random_1 == random_2"
      ],
      "execution_count": null,
      "outputs": []
    },
    {
      "cell_type": "code",
      "metadata": {
        "id": "tbRju4TVsKFH"
      },
      "source": [
        "#setting seed removes absolute randomness"
      ],
      "execution_count": null,
      "outputs": []
    },
    {
      "cell_type": "code",
      "metadata": {
        "id": "pyzUNyovtKv9"
      },
      "source": [
        "#Shuffle the tensor , when you want to shuffle the data , so that inherent order doesn't affect learning"
      ],
      "execution_count": null,
      "outputs": []
    },
    {
      "cell_type": "code",
      "metadata": {
        "id": "zS_e2xVotZEh"
      },
      "source": [
        "not_shuffled = tf.constant([[10,7],\n",
        "                           [3,4],\n",
        "                           [5,6]])"
      ],
      "execution_count": null,
      "outputs": []
    },
    {
      "cell_type": "code",
      "metadata": {
        "colab": {
          "base_uri": "https://localhost:8080/"
        },
        "id": "pi39_6PZuhBU",
        "outputId": "94b47dd5-9ed7-4e5d-d797-6bdc8f7ac142"
      },
      "source": [
        "not_shuffled"
      ],
      "execution_count": null,
      "outputs": [
        {
          "output_type": "execute_result",
          "data": {
            "text/plain": [
              "<tf.Tensor: shape=(3, 2), dtype=int32, numpy=\n",
              "array([[10,  7],\n",
              "       [ 3,  4],\n",
              "       [ 5,  6]], dtype=int32)>"
            ]
          },
          "metadata": {
            "tags": []
          },
          "execution_count": 21
        }
      ]
    },
    {
      "cell_type": "code",
      "metadata": {
        "colab": {
          "base_uri": "https://localhost:8080/"
        },
        "id": "jbELEPmruvq3",
        "outputId": "fc7d6590-a5fc-4146-fbb7-137f1621cc9d"
      },
      "source": [
        "#shuffle our non-shuffled tensor\n",
        "tf.random.shuffle(not_shuffled) #shuffle happens based on first dimension"
      ],
      "execution_count": null,
      "outputs": [
        {
          "output_type": "execute_result",
          "data": {
            "text/plain": [
              "<tf.Tensor: shape=(3, 2), dtype=int32, numpy=\n",
              "array([[ 3,  4],\n",
              "       [ 5,  6],\n",
              "       [10,  7]], dtype=int32)>"
            ]
          },
          "metadata": {
            "tags": []
          },
          "execution_count": 22
        }
      ]
    },
    {
      "cell_type": "code",
      "metadata": {
        "colab": {
          "base_uri": "https://localhost:8080/"
        },
        "id": "1IPISLPWu54Q",
        "outputId": "8f4113f2-7f53-4164-e7ed-046cadae21f9"
      },
      "source": [
        "tf.random.set_seed(42)\n",
        "tf.random.shuffle(not_shuffled,seed = 42)"
      ],
      "execution_count": null,
      "outputs": [
        {
          "output_type": "execute_result",
          "data": {
            "text/plain": [
              "<tf.Tensor: shape=(3, 2), dtype=int32, numpy=\n",
              "array([[10,  7],\n",
              "       [ 3,  4],\n",
              "       [ 5,  6]], dtype=int32)>"
            ]
          },
          "metadata": {
            "tags": []
          },
          "execution_count": 23
        }
      ]
    },
    {
      "cell_type": "markdown",
      "metadata": {
        "id": "2Xp9g479Roya"
      },
      "source": [
        "Other ways to make tensors"
      ]
    },
    {
      "cell_type": "code",
      "metadata": {
        "colab": {
          "base_uri": "https://localhost:8080/"
        },
        "id": "lFlYmE_L4mVu",
        "outputId": "9ae32b63-0751-4f07-e9c8-602f418db770"
      },
      "source": [
        "import tensorflow as tf\n",
        "#create a tensor of all ones\n",
        "tf.ones([10, 7])"
      ],
      "execution_count": null,
      "outputs": [
        {
          "output_type": "execute_result",
          "data": {
            "text/plain": [
              "<tf.Tensor: shape=(10, 7), dtype=float32, numpy=\n",
              "array([[1., 1., 1., 1., 1., 1., 1.],\n",
              "       [1., 1., 1., 1., 1., 1., 1.],\n",
              "       [1., 1., 1., 1., 1., 1., 1.],\n",
              "       [1., 1., 1., 1., 1., 1., 1.],\n",
              "       [1., 1., 1., 1., 1., 1., 1.],\n",
              "       [1., 1., 1., 1., 1., 1., 1.],\n",
              "       [1., 1., 1., 1., 1., 1., 1.],\n",
              "       [1., 1., 1., 1., 1., 1., 1.],\n",
              "       [1., 1., 1., 1., 1., 1., 1.],\n",
              "       [1., 1., 1., 1., 1., 1., 1.]], dtype=float32)>"
            ]
          },
          "metadata": {
            "tags": []
          },
          "execution_count": 3
        }
      ]
    },
    {
      "cell_type": "code",
      "metadata": {
        "colab": {
          "base_uri": "https://localhost:8080/"
        },
        "id": "09Ysljzb5FPr",
        "outputId": "5cabdee0-70c4-4efd-9197-9fd2db926dcd"
      },
      "source": [
        "#create a tensor flow of all zeroes\n",
        "tf.zeros([3,3])"
      ],
      "execution_count": null,
      "outputs": [
        {
          "output_type": "execute_result",
          "data": {
            "text/plain": [
              "<tf.Tensor: shape=(3, 3), dtype=float32, numpy=\n",
              "array([[0., 0., 0.],\n",
              "       [0., 0., 0.],\n",
              "       [0., 0., 0.]], dtype=float32)>"
            ]
          },
          "metadata": {
            "tags": []
          },
          "execution_count": 7
        }
      ]
    },
    {
      "cell_type": "code",
      "metadata": {
        "colab": {
          "base_uri": "https://localhost:8080/"
        },
        "id": "YL3Wj1jK5PhP",
        "outputId": "5956657d-8448-4eed-8337-0c2cd48bd53a"
      },
      "source": [
        "tf.zeros(shape=(2,3))"
      ],
      "execution_count": null,
      "outputs": [
        {
          "output_type": "execute_result",
          "data": {
            "text/plain": [
              "<tf.Tensor: shape=(2, 3), dtype=float32, numpy=\n",
              "array([[0., 0., 0.],\n",
              "       [0., 0., 0.]], dtype=float32)>"
            ]
          },
          "metadata": {
            "tags": []
          },
          "execution_count": 8
        }
      ]
    },
    {
      "cell_type": "markdown",
      "metadata": {
        "id": "OxJlX1iL5W87"
      },
      "source": [
        " #Numpy arrays can be converted to tensors"
      ]
    },
    {
      "cell_type": "code",
      "metadata": {
        "id": "u_4yJI8t5iOJ"
      },
      "source": [
        "import numpy as np\n",
        "numpy_A = np.arange(1,25, dtype=np.int32)"
      ],
      "execution_count": null,
      "outputs": []
    },
    {
      "cell_type": "code",
      "metadata": {
        "colab": {
          "base_uri": "https://localhost:8080/"
        },
        "id": "CBOx-HC-6GkH",
        "outputId": "9563c3b3-ca1e-4b35-f8fe-a3cfd7a14d67"
      },
      "source": [
        "numpy_A"
      ],
      "execution_count": null,
      "outputs": [
        {
          "output_type": "execute_result",
          "data": {
            "text/plain": [
              "array([ 1,  2,  3,  4,  5,  6,  7,  8,  9, 10, 11, 12, 13, 14, 15, 16, 17,\n",
              "       18, 19, 20, 21, 22, 23, 24], dtype=int32)"
            ]
          },
          "metadata": {
            "tags": []
          },
          "execution_count": 12
        }
      ]
    },
    {
      "cell_type": "code",
      "metadata": {
        "id": "chjVXCl26MUm"
      },
      "source": [
        "A = tf.constant(numpy_A)"
      ],
      "execution_count": null,
      "outputs": []
    },
    {
      "cell_type": "code",
      "metadata": {
        "colab": {
          "base_uri": "https://localhost:8080/"
        },
        "id": "UQGqg2io6RQT",
        "outputId": "c4850592-205d-4c69-8cad-8f07aba3a08b"
      },
      "source": [
        "A"
      ],
      "execution_count": null,
      "outputs": [
        {
          "output_type": "execute_result",
          "data": {
            "text/plain": [
              "<tf.Tensor: shape=(24,), dtype=int32, numpy=\n",
              "array([ 1,  2,  3,  4,  5,  6,  7,  8,  9, 10, 11, 12, 13, 14, 15, 16, 17,\n",
              "       18, 19, 20, 21, 22, 23, 24], dtype=int32)>"
            ]
          },
          "metadata": {
            "tags": []
          },
          "execution_count": 14
        }
      ]
    },
    {
      "cell_type": "code",
      "metadata": {
        "colab": {
          "base_uri": "https://localhost:8080/"
        },
        "id": "xUHr6d4I6SU4",
        "outputId": "5d67b83b-34c0-4f83-8b4a-8448db9c2e3b"
      },
      "source": [
        "A = tf.constant(numpy_A ,shape=(2,3,4) )\n",
        "A.ndim\n",
        "A"
      ],
      "execution_count": null,
      "outputs": [
        {
          "output_type": "execute_result",
          "data": {
            "text/plain": [
              "<tf.Tensor: shape=(2, 3, 4), dtype=int32, numpy=\n",
              "array([[[ 1,  2,  3,  4],\n",
              "        [ 5,  6,  7,  8],\n",
              "        [ 9, 10, 11, 12]],\n",
              "\n",
              "       [[13, 14, 15, 16],\n",
              "        [17, 18, 19, 20],\n",
              "        [21, 22, 23, 24]]], dtype=int32)>"
            ]
          },
          "metadata": {
            "tags": []
          },
          "execution_count": 22
        }
      ]
    },
    {
      "cell_type": "code",
      "metadata": {
        "colab": {
          "base_uri": "https://localhost:8080/"
        },
        "id": "ivj1mgza6p2N",
        "outputId": "f49281b0-79a1-4da9-e153-8a3bdb9fe9b4"
      },
      "source": [
        "A = tf.constant(numpy_A, shape=(8,3))\n",
        "A"
      ],
      "execution_count": null,
      "outputs": [
        {
          "output_type": "execute_result",
          "data": {
            "text/plain": [
              "<tf.Tensor: shape=(8, 3), dtype=int32, numpy=\n",
              "array([[ 1,  2,  3],\n",
              "       [ 4,  5,  6],\n",
              "       [ 7,  8,  9],\n",
              "       [10, 11, 12],\n",
              "       [13, 14, 15],\n",
              "       [16, 17, 18],\n",
              "       [19, 20, 21],\n",
              "       [22, 23, 24]], dtype=int32)>"
            ]
          },
          "metadata": {
            "tags": []
          },
          "execution_count": 18
        }
      ]
    },
    {
      "cell_type": "code",
      "metadata": {
        "colab": {
          "base_uri": "https://localhost:8080/"
        },
        "id": "vEkoXRkG67eG",
        "outputId": "530a5b12-4243-42bd-829b-7df17c451109"
      },
      "source": [
        "A.ndim"
      ],
      "execution_count": null,
      "outputs": [
        {
          "output_type": "execute_result",
          "data": {
            "text/plain": [
              "2"
            ]
          },
          "metadata": {
            "tags": []
          },
          "execution_count": 19
        }
      ]
    },
    {
      "cell_type": "markdown",
      "metadata": {
        "id": "eFbSKUjt7K8f"
      },
      "source": [
        "![image.png](data:image/png;base64,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)"
      ]
    },
    {
      "cell_type": "code",
      "metadata": {
        "id": "6_Wh3MGN7bJo"
      },
      "source": [
        "#create a rank 4 tensor (4 dimensions)\n",
        "rank_4_tensor = tf.zeros([2,3,4,5]) "
      ],
      "execution_count": null,
      "outputs": []
    },
    {
      "cell_type": "code",
      "metadata": {
        "colab": {
          "base_uri": "https://localhost:8080/"
        },
        "id": "-e8QP7aj8lO5",
        "outputId": "d1a2b4dc-6062-4705-85da-90b50ca9f238"
      },
      "source": [
        "rank_4_tensor"
      ],
      "execution_count": null,
      "outputs": [
        {
          "output_type": "execute_result",
          "data": {
            "text/plain": [
              "<tf.Tensor: shape=(2, 3, 4, 5), dtype=float32, numpy=\n",
              "array([[[[0., 0., 0., 0., 0.],\n",
              "         [0., 0., 0., 0., 0.],\n",
              "         [0., 0., 0., 0., 0.],\n",
              "         [0., 0., 0., 0., 0.]],\n",
              "\n",
              "        [[0., 0., 0., 0., 0.],\n",
              "         [0., 0., 0., 0., 0.],\n",
              "         [0., 0., 0., 0., 0.],\n",
              "         [0., 0., 0., 0., 0.]],\n",
              "\n",
              "        [[0., 0., 0., 0., 0.],\n",
              "         [0., 0., 0., 0., 0.],\n",
              "         [0., 0., 0., 0., 0.],\n",
              "         [0., 0., 0., 0., 0.]]],\n",
              "\n",
              "\n",
              "       [[[0., 0., 0., 0., 0.],\n",
              "         [0., 0., 0., 0., 0.],\n",
              "         [0., 0., 0., 0., 0.],\n",
              "         [0., 0., 0., 0., 0.]],\n",
              "\n",
              "        [[0., 0., 0., 0., 0.],\n",
              "         [0., 0., 0., 0., 0.],\n",
              "         [0., 0., 0., 0., 0.],\n",
              "         [0., 0., 0., 0., 0.]],\n",
              "\n",
              "        [[0., 0., 0., 0., 0.],\n",
              "         [0., 0., 0., 0., 0.],\n",
              "         [0., 0., 0., 0., 0.],\n",
              "         [0., 0., 0., 0., 0.]]]], dtype=float32)>"
            ]
          },
          "metadata": {
            "tags": []
          },
          "execution_count": 24
        }
      ]
    },
    {
      "cell_type": "code",
      "metadata": {
        "colab": {
          "base_uri": "https://localhost:8080/"
        },
        "id": "0mRWQTjO8m4O",
        "outputId": "19ce079f-f15e-4320-a401-25ef84f9f89b"
      },
      "source": [
        "rank_4_tensor[0]"
      ],
      "execution_count": null,
      "outputs": [
        {
          "output_type": "execute_result",
          "data": {
            "text/plain": [
              "<tf.Tensor: shape=(3, 4, 5), dtype=float32, numpy=\n",
              "array([[[0., 0., 0., 0., 0.],\n",
              "        [0., 0., 0., 0., 0.],\n",
              "        [0., 0., 0., 0., 0.],\n",
              "        [0., 0., 0., 0., 0.]],\n",
              "\n",
              "       [[0., 0., 0., 0., 0.],\n",
              "        [0., 0., 0., 0., 0.],\n",
              "        [0., 0., 0., 0., 0.],\n",
              "        [0., 0., 0., 0., 0.]],\n",
              "\n",
              "       [[0., 0., 0., 0., 0.],\n",
              "        [0., 0., 0., 0., 0.],\n",
              "        [0., 0., 0., 0., 0.],\n",
              "        [0., 0., 0., 0., 0.]]], dtype=float32)>"
            ]
          },
          "metadata": {
            "tags": []
          },
          "execution_count": 25
        }
      ]
    },
    {
      "cell_type": "code",
      "metadata": {
        "colab": {
          "base_uri": "https://localhost:8080/"
        },
        "id": "faBwRKyU9Es9",
        "outputId": "78a29422-d847-4784-f924-649924c8d632"
      },
      "source": [
        "rank_4_tensor[0,0]"
      ],
      "execution_count": null,
      "outputs": [
        {
          "output_type": "execute_result",
          "data": {
            "text/plain": [
              "<tf.Tensor: shape=(4, 5), dtype=float32, numpy=\n",
              "array([[0., 0., 0., 0., 0.],\n",
              "       [0., 0., 0., 0., 0.],\n",
              "       [0., 0., 0., 0., 0.],\n",
              "       [0., 0., 0., 0., 0.]], dtype=float32)>"
            ]
          },
          "metadata": {
            "tags": []
          },
          "execution_count": 26
        }
      ]
    },
    {
      "cell_type": "code",
      "metadata": {
        "colab": {
          "base_uri": "https://localhost:8080/"
        },
        "id": "TzwKCw2G9MaX",
        "outputId": "7fc473cf-9717-427d-e199-01113f79ff94"
      },
      "source": [
        "rank_4_tensor.shape , rank_4_tensor.ndim , tf.size(rank_4_tensor)"
      ],
      "execution_count": null,
      "outputs": [
        {
          "output_type": "execute_result",
          "data": {
            "text/plain": [
              "(TensorShape([2, 3, 4, 5]), 4, <tf.Tensor: shape=(), dtype=int32, numpy=120>)"
            ]
          },
          "metadata": {
            "tags": []
          },
          "execution_count": 28
        }
      ]
    },
    {
      "cell_type": "code",
      "metadata": {
        "colab": {
          "base_uri": "https://localhost:8080/"
        },
        "id": "OUlkUMa-9Uh0",
        "outputId": "8f10bed6-92b0-41bc-c7c1-3f92f1c96cb6"
      },
      "source": [
        " 2*3*4*5"
      ],
      "execution_count": null,
      "outputs": [
        {
          "output_type": "execute_result",
          "data": {
            "text/plain": [
              "120"
            ]
          },
          "metadata": {
            "tags": []
          },
          "execution_count": 29
        }
      ]
    },
    {
      "cell_type": "code",
      "metadata": {
        "colab": {
          "base_uri": "https://localhost:8080/"
        },
        "id": "8LdqbWMI9j4h",
        "outputId": "b50c9988-ecc6-4652-823a-25b242cfc24a"
      },
      "source": [
        "print(\"Datatype of every element:\" ,rank_4_tensor.dtype)\n",
        "print(\"Number of dimension :\" ,rank_4_tensor.ndim)\n",
        "print(\"Number of elements:\" , tf.size(rank_4_tensor))\n",
        "print(\"Number of elements:\",tf.size(rank_4_tensor).numpy())"
      ],
      "execution_count": null,
      "outputs": [
        {
          "output_type": "stream",
          "text": [
            "Datatype of every element: <dtype: 'float32'>\n",
            "Number of dimension : 4\n",
            "Number of elements: tf.Tensor(120, shape=(), dtype=int32)\n",
            "Number of elements: 120\n"
          ],
          "name": "stdout"
        }
      ]
    },
    {
      "cell_type": "markdown",
      "metadata": {
        "id": "chnUQwkd92Ym"
      },
      "source": [
        "Indexing in tensorflow"
      ]
    },
    {
      "cell_type": "code",
      "metadata": {
        "colab": {
          "base_uri": "https://localhost:8080/"
        },
        "id": "IwW6IHeWAeHk",
        "outputId": "f568f2dc-5072-48b6-adbf-644f79713e11"
      },
      "source": [
        " rank_4_tensor[:2,:2,:2,:2]"
      ],
      "execution_count": null,
      "outputs": [
        {
          "output_type": "execute_result",
          "data": {
            "text/plain": [
              "<tf.Tensor: shape=(2, 2, 2, 2), dtype=float32, numpy=\n",
              "array([[[[0., 0.],\n",
              "         [0., 0.]],\n",
              "\n",
              "        [[0., 0.],\n",
              "         [0., 0.]]],\n",
              "\n",
              "\n",
              "       [[[0., 0.],\n",
              "         [0., 0.]],\n",
              "\n",
              "        [[0., 0.],\n",
              "         [0., 0.]]]], dtype=float32)>"
            ]
          },
          "metadata": {
            "tags": []
          },
          "execution_count": 34
        }
      ]
    },
    {
      "cell_type": "code",
      "metadata": {
        "colab": {
          "base_uri": "https://localhost:8080/"
        },
        "id": "paHK5BHhArcT",
        "outputId": "536add1b-0a0b-41b5-e417-b37580ae9b30"
      },
      "source": [
        "#Get first element from each dimension from each index except for final one\n",
        "rank_4_tensor[:1,:1,:1,:] "
      ],
      "execution_count": null,
      "outputs": [
        {
          "output_type": "execute_result",
          "data": {
            "text/plain": [
              "<tf.Tensor: shape=(1, 1, 1, 5), dtype=float32, numpy=array([[[[0., 0., 0., 0., 0.]]]], dtype=float32)>"
            ]
          },
          "metadata": {
            "tags": []
          },
          "execution_count": 36
        }
      ]
    },
    {
      "cell_type": "code",
      "metadata": {
        "id": "SHFijpXUB1ht"
      },
      "source": [
        "#Createa a rank 2 tensor \n",
        "\n",
        "rank_2_tensor = tf.constant([[10,7],\n",
        "                             [3,4]])"
      ],
      "execution_count": null,
      "outputs": []
    },
    {
      "cell_type": "code",
      "metadata": {
        "colab": {
          "base_uri": "https://localhost:8080/"
        },
        "id": "oKoxSAWhCOFH",
        "outputId": "db936392-c68d-42c1-a889-24ef8bdf2f49"
      },
      "source": [
        "rank_2_tensor"
      ],
      "execution_count": null,
      "outputs": [
        {
          "output_type": "execute_result",
          "data": {
            "text/plain": [
              "<tf.Tensor: shape=(2, 2), dtype=int32, numpy=\n",
              "array([[10,  7],\n",
              "       [ 3,  4]], dtype=int32)>"
            ]
          },
          "metadata": {
            "tags": []
          },
          "execution_count": 38
        }
      ]
    },
    {
      "cell_type": "code",
      "metadata": {
        "colab": {
          "base_uri": "https://localhost:8080/"
        },
        "id": "oY0IM9W8CPLl",
        "outputId": "68b8be01-e5c7-408b-efd8-40777c433f6f"
      },
      "source": [
        "rank_2_tensor.ndim"
      ],
      "execution_count": null,
      "outputs": [
        {
          "output_type": "execute_result",
          "data": {
            "text/plain": [
              "2"
            ]
          },
          "metadata": {
            "tags": []
          },
          "execution_count": 39
        }
      ]
    },
    {
      "cell_type": "code",
      "metadata": {
        "colab": {
          "base_uri": "https://localhost:8080/"
        },
        "id": "INM8hNjrCSsq",
        "outputId": "3529abac-bdad-46c1-bc97-66f6ac0e4924"
      },
      "source": [
        "#Get last item of each of row 2 tensor\n",
        "rank_2_tensor[:,-1]"
      ],
      "execution_count": null,
      "outputs": [
        {
          "output_type": "execute_result",
          "data": {
            "text/plain": [
              "<tf.Tensor: shape=(2,), dtype=int32, numpy=array([7, 4], dtype=int32)>"
            ]
          },
          "metadata": {
            "tags": []
          },
          "execution_count": 42
        }
      ]
    },
    {
      "cell_type": "markdown",
      "metadata": {
        "id": "ngMzufelCf0Q"
      },
      "source": [
        "Add extra dimension"
      ]
    },
    {
      "cell_type": "code",
      "metadata": {
        "colab": {
          "base_uri": "https://localhost:8080/"
        },
        "id": "2PQ09ZBRDbZY",
        "outputId": "1951a499-479e-492b-c0a6-5bb24688125e"
      },
      "source": [
        "rank_3_tensor = rank_2_tensor[..., tf.newaxis] #Three dots means , for every previous axis\n",
        "rank_3_tensor "
      ],
      "execution_count": null,
      "outputs": [
        {
          "output_type": "execute_result",
          "data": {
            "text/plain": [
              "<tf.Tensor: shape=(2, 2, 1), dtype=int32, numpy=\n",
              "array([[[10],\n",
              "        [ 7]],\n",
              "\n",
              "       [[ 3],\n",
              "        [ 4]]], dtype=int32)>"
            ]
          },
          "metadata": {
            "tags": []
          },
          "execution_count": 44
        }
      ]
    },
    {
      "cell_type": "code",
      "metadata": {
        "colab": {
          "base_uri": "https://localhost:8080/"
        },
        "id": "Ja8l-MeSDj1V",
        "outputId": "c8823e39-6e0b-44f6-dfd5-66777ec9aa57"
      },
      "source": [
        "#Altenrative to tf.newaxis\n",
        "tf.expand_dims(rank_2_tensor,axis=1)"
      ],
      "execution_count": null,
      "outputs": [
        {
          "output_type": "execute_result",
          "data": {
            "text/plain": [
              "<tf.Tensor: shape=(2, 1, 2), dtype=int32, numpy=\n",
              "array([[[10,  7]],\n",
              "\n",
              "       [[ 3,  4]]], dtype=int32)>"
            ]
          },
          "metadata": {
            "tags": []
          },
          "execution_count": 46
        }
      ]
    },
    {
      "cell_type": "markdown",
      "metadata": {
        "id": "iLhEnY5VEAPh"
      },
      "source": [
        "\n",
        "\n",
        "Manipulating Tensor [+ - * /]"
      ]
    },
    {
      "cell_type": "code",
      "metadata": {
        "id": "CrYciunYEcCx"
      },
      "source": [
        "tensor = tf.constant ([[10,7],[3,4]])"
      ],
      "execution_count": null,
      "outputs": []
    },
    {
      "cell_type": "code",
      "metadata": {
        "colab": {
          "base_uri": "https://localhost:8080/"
        },
        "id": "y8H6b6cZE2QF",
        "outputId": "ee61398d-9bf0-4954-f2a8-d882ab86ee21"
      },
      "source": [
        "tensor+10"
      ],
      "execution_count": null,
      "outputs": [
        {
          "output_type": "execute_result",
          "data": {
            "text/plain": [
              "<tf.Tensor: shape=(2, 2), dtype=int32, numpy=\n",
              "array([[20, 17],\n",
              "       [13, 14]], dtype=int32)>"
            ]
          },
          "metadata": {
            "tags": []
          },
          "execution_count": 48
        }
      ]
    },
    {
      "cell_type": "code",
      "metadata": {
        "id": "ABs7Y8FSE4Jh"
      },
      "source": [
        "tensor = tensor+10"
      ],
      "execution_count": null,
      "outputs": []
    },
    {
      "cell_type": "code",
      "metadata": {
        "colab": {
          "base_uri": "https://localhost:8080/"
        },
        "id": "tKhQ_ONrE9n6",
        "outputId": "4b499e2a-456b-4ff7-a00d-1808f6e09809"
      },
      "source": [
        "tensor"
      ],
      "execution_count": null,
      "outputs": [
        {
          "output_type": "execute_result",
          "data": {
            "text/plain": [
              "<tf.Tensor: shape=(2, 2), dtype=int32, numpy=\n",
              "array([[20, 17],\n",
              "       [13, 14]], dtype=int32)>"
            ]
          },
          "metadata": {
            "tags": []
          },
          "execution_count": 50
        }
      ]
    },
    {
      "cell_type": "code",
      "metadata": {
        "colab": {
          "base_uri": "https://localhost:8080/"
        },
        "id": "jAxXQklrE-hy",
        "outputId": "5c26e5fa-f94a-4687-9250-366ffc291d64"
      },
      "source": [
        "#we can use tensorflow built in function\n",
        "tf.multiply(tensor,10)"
      ],
      "execution_count": null,
      "outputs": [
        {
          "output_type": "execute_result",
          "data": {
            "text/plain": [
              "<tf.Tensor: shape=(2, 2), dtype=int32, numpy=\n",
              "array([[200, 170],\n",
              "       [130, 140]], dtype=int32)>"
            ]
          },
          "metadata": {
            "tags": []
          },
          "execution_count": 51
        }
      ]
    },
    {
      "cell_type": "code",
      "metadata": {
        "colab": {
          "base_uri": "https://localhost:8080/"
        },
        "id": "jTyHSNVzGFJW",
        "outputId": "ad5f91ac-ae11-4eff-98b2-296ec7b874eb"
      },
      "source": [
        "tf.math.add(tensor,1)"
      ],
      "execution_count": null,
      "outputs": [
        {
          "output_type": "execute_result",
          "data": {
            "text/plain": [
              "<tf.Tensor: shape=(2, 2), dtype=int32, numpy=\n",
              "array([[21, 18],\n",
              "       [14, 15]], dtype=int32)>"
            ]
          },
          "metadata": {
            "tags": []
          },
          "execution_count": 54
        }
      ]
    },
    {
      "cell_type": "markdown",
      "metadata": {
        "id": "3krR0LwQGflv"
      },
      "source": [
        "Matrix Multiplication"
      ]
    },
    {
      "cell_type": "code",
      "metadata": {
        "colab": {
          "base_uri": "https://localhost:8080/"
        },
        "id": "ayH4hGKYGwHS",
        "outputId": "f32b76eb-f951-4be8-fa4a-66183d49ab84"
      },
      "source": [
        "print(tensor)\n",
        "tf.linalg.matmul(tensor,tensor)"
      ],
      "execution_count": null,
      "outputs": [
        {
          "output_type": "stream",
          "text": [
            "tf.Tensor(\n",
            "[[20 17]\n",
            " [13 14]], shape=(2, 2), dtype=int32)\n"
          ],
          "name": "stdout"
        },
        {
          "output_type": "execute_result",
          "data": {
            "text/plain": [
              "<tf.Tensor: shape=(2, 2), dtype=int32, numpy=\n",
              "array([[621, 578],\n",
              "       [442, 417]], dtype=int32)>"
            ]
          },
          "metadata": {
            "tags": []
          },
          "execution_count": 56
        }
      ]
    },
    {
      "cell_type": "code",
      "metadata": {
        "colab": {
          "base_uri": "https://localhost:8080/"
        },
        "id": "9UJ3jRwaHw2e",
        "outputId": "58021c89-024e-42f1-ff3e-002e3889723b"
      },
      "source": [
        "tensor * tensor #this is element wise"
      ],
      "execution_count": null,
      "outputs": [
        {
          "output_type": "execute_result",
          "data": {
            "text/plain": [
              "<tf.Tensor: shape=(2, 2), dtype=int32, numpy=\n",
              "array([[400, 289],\n",
              "       [169, 196]], dtype=int32)>"
            ]
          },
          "metadata": {
            "tags": []
          },
          "execution_count": 58
        }
      ]
    },
    {
      "cell_type": "code",
      "metadata": {
        "colab": {
          "base_uri": "https://localhost:8080/"
        },
        "id": "vFpQ0cDSH7oR",
        "outputId": "f5fe98ba-e681-42a0-8cb6-fc08632d08be"
      },
      "source": [
        "matrix1 = tf.constant([[1,2,5],\n",
        "                       [7,2,1],\n",
        "                       [3,3,3]])\n",
        "matrix1"
      ],
      "execution_count": null,
      "outputs": [
        {
          "output_type": "execute_result",
          "data": {
            "text/plain": [
              "<tf.Tensor: shape=(3, 3), dtype=int32, numpy=\n",
              "array([[1, 2, 5],\n",
              "       [7, 2, 1],\n",
              "       [3, 3, 3]], dtype=int32)>"
            ]
          },
          "metadata": {
            "tags": []
          },
          "execution_count": 59
        }
      ]
    },
    {
      "cell_type": "code",
      "metadata": {
        "colab": {
          "base_uri": "https://localhost:8080/"
        },
        "id": "UBFNJaW_IWXq",
        "outputId": "b2f31b39-335b-4382-e5c6-8c6eefc213d1"
      },
      "source": [
        "matrix2 = tf.constant([[3,5],\n",
        "                       [6,7],\n",
        "                       [1,8]])\n",
        "matrix2"
      ],
      "execution_count": null,
      "outputs": [
        {
          "output_type": "execute_result",
          "data": {
            "text/plain": [
              "<tf.Tensor: shape=(3, 2), dtype=int32, numpy=\n",
              "array([[3, 5],\n",
              "       [6, 7],\n",
              "       [1, 8]], dtype=int32)>"
            ]
          },
          "metadata": {
            "tags": []
          },
          "execution_count": 60
        }
      ]
    },
    {
      "cell_type": "code",
      "metadata": {
        "colab": {
          "base_uri": "https://localhost:8080/"
        },
        "id": "HL0dTwSpIg1C",
        "outputId": "65686b9e-7d0a-4044-9b63-87e67f872bcd"
      },
      "source": [
        "tf.matmul(matrix1,matrix2)"
      ],
      "execution_count": null,
      "outputs": [
        {
          "output_type": "execute_result",
          "data": {
            "text/plain": [
              "<tf.Tensor: shape=(3, 2), dtype=int32, numpy=\n",
              "array([[20, 59],\n",
              "       [34, 57],\n",
              "       [30, 60]], dtype=int32)>"
            ]
          },
          "metadata": {
            "tags": []
          },
          "execution_count": 61
        }
      ]
    },
    {
      "cell_type": "code",
      "metadata": {
        "colab": {
          "base_uri": "https://localhost:8080/"
        },
        "id": "hPaExhx7Im_Z",
        "outputId": "e55c9d9f-bb5b-4e37-8a42-bdc1ed2b2fb1"
      },
      "source": [
        "matrix1 @ matrix2 #matrix multiplication 🖋"
      ],
      "execution_count": null,
      "outputs": [
        {
          "output_type": "execute_result",
          "data": {
            "text/plain": [
              "<tf.Tensor: shape=(3, 2), dtype=int32, numpy=\n",
              "array([[20, 59],\n",
              "       [34, 57],\n",
              "       [30, 60]], dtype=int32)>"
            ]
          },
          "metadata": {
            "tags": []
          },
          "execution_count": 62
        }
      ]
    },
    {
      "cell_type": "code",
      "metadata": {
        "colab": {
          "base_uri": "https://localhost:8080/"
        },
        "id": "hpFlbj5RIxNz",
        "outputId": "1fd03dce-d0e3-4847-b3c1-35298d9b4545"
      },
      "source": [
        "matrix3 = tf.constant([[1,2],\n",
        "                       [3,4],\n",
        "                       [5,6]])\n",
        "matrix3"
      ],
      "execution_count": null,
      "outputs": [
        {
          "output_type": "execute_result",
          "data": {
            "text/plain": [
              "<tf.Tensor: shape=(3, 2), dtype=int32, numpy=\n",
              "array([[1, 2],\n",
              "       [3, 4],\n",
              "       [5, 6]], dtype=int32)>"
            ]
          },
          "metadata": {
            "tags": []
          },
          "execution_count": 69
        }
      ]
    },
    {
      "cell_type": "code",
      "metadata": {
        "colab": {
          "base_uri": "https://localhost:8080/"
        },
        "id": "eOtx--JwL84v",
        "outputId": "3086c68d-b288-4d1f-bd49-1622fba527f4"
      },
      "source": [
        "tf.transpose(matrix3) , tf.reshape(matrix3 , shape = (2,3)) "
      ],
      "execution_count": null,
      "outputs": [
        {
          "output_type": "execute_result",
          "data": {
            "text/plain": [
              "(<tf.Tensor: shape=(2, 3), dtype=int32, numpy=\n",
              " array([[1, 3, 5],\n",
              "        [2, 4, 6]], dtype=int32)>,\n",
              " <tf.Tensor: shape=(2, 3), dtype=int32, numpy=\n",
              " array([[1, 2, 3],\n",
              "        [4, 5, 6]], dtype=int32)>)"
            ]
          },
          "metadata": {
            "tags": []
          },
          "execution_count": 70
        }
      ]
    },
    {
      "cell_type": "markdown",
      "metadata": {
        "id": "78lYLgh0ML71"
      },
      "source": [
        "👀Dot Product is same as matrix multiplication"
      ]
    },
    {
      "cell_type": "code",
      "metadata": {
        "colab": {
          "base_uri": "https://localhost:8080/"
        },
        "id": "Z02aIxFaOlKD",
        "outputId": "7608d178-2192-472b-ea11-a7c3778f79f5"
      },
      "source": [
        "#perform dot product \n",
        "matrix3"
      ],
      "execution_count": null,
      "outputs": [
        {
          "output_type": "execute_result",
          "data": {
            "text/plain": [
              "<tf.Tensor: shape=(3, 2), dtype=int32, numpy=\n",
              "array([[1, 2],\n",
              "       [3, 4],\n",
              "       [5, 6]], dtype=int32)>"
            ]
          },
          "metadata": {
            "tags": []
          },
          "execution_count": 71
        }
      ]
    },
    {
      "cell_type": "code",
      "metadata": {
        "colab": {
          "base_uri": "https://localhost:8080/"
        },
        "id": "QO9TICnWO_8C",
        "outputId": "7559e8d9-c6e0-424a-c02b-9042a92d959b"
      },
      "source": [
        "matrix4 = matrix3+1\n",
        "matrix4"
      ],
      "execution_count": null,
      "outputs": [
        {
          "output_type": "execute_result",
          "data": {
            "text/plain": [
              "<tf.Tensor: shape=(3, 2), dtype=int32, numpy=\n",
              "array([[2, 3],\n",
              "       [4, 5],\n",
              "       [6, 7]], dtype=int32)>"
            ]
          },
          "metadata": {
            "tags": []
          },
          "execution_count": 74
        }
      ]
    },
    {
      "cell_type": "code",
      "metadata": {
        "colab": {
          "base_uri": "https://localhost:8080/"
        },
        "id": "Zm9tFPZ6PDF-",
        "outputId": "92d62e3c-15f4-40d9-db79-547eb6d47b83"
      },
      "source": [
        "tf.tensordot(tf.transpose(matrix1),matrix2,axes=1)"
      ],
      "execution_count": null,
      "outputs": [
        {
          "output_type": "execute_result",
          "data": {
            "text/plain": [
              "<tf.Tensor: shape=(3, 2), dtype=int32, numpy=\n",
              "array([[48, 78],\n",
              "       [21, 48],\n",
              "       [24, 56]], dtype=int32)>"
            ]
          },
          "metadata": {
            "tags": []
          },
          "execution_count": 76
        }
      ]
    },
    {
      "cell_type": "code",
      "metadata": {
        "colab": {
          "base_uri": "https://localhost:8080/"
        },
        "id": "1YmEVhTHPKNv",
        "outputId": "e360e11d-3f05-49a7-9a08-6a62f6dec2e0"
      },
      "source": [
        "matrix3,tf.matmul(matrix3 , tf.reshape(matrix3 ,shape=(2,3)))"
      ],
      "execution_count": null,
      "outputs": [
        {
          "output_type": "execute_result",
          "data": {
            "text/plain": [
              "(<tf.Tensor: shape=(3, 2), dtype=int32, numpy=\n",
              " array([[1, 2],\n",
              "        [3, 4],\n",
              "        [5, 6]], dtype=int32)>, <tf.Tensor: shape=(3, 3), dtype=int32, numpy=\n",
              " array([[ 9, 12, 15],\n",
              "        [19, 26, 33],\n",
              "        [29, 40, 51]], dtype=int32)>)"
            ]
          },
          "metadata": {
            "tags": []
          },
          "execution_count": 82
        }
      ]
    },
    {
      "cell_type": "markdown",
      "metadata": {
        "id": "FIH_UPVGPu9p"
      },
      "source": [
        "Datatypes of tensor 🤷‍♂️\n",
        "\n",
        "\n"
      ]
    },
    {
      "cell_type": "code",
      "metadata": {
        "colab": {
          "base_uri": "https://localhost:8080/"
        },
        "id": "GfNs2zxJRdI2",
        "outputId": "6f5d8c9e-1beb-41e5-84cc-073c4c17a2b1"
      },
      "source": [
        "c = tf.constant([1,2])\n",
        "c"
      ],
      "execution_count": null,
      "outputs": [
        {
          "output_type": "execute_result",
          "data": {
            "text/plain": [
              "<tf.Tensor: shape=(2,), dtype=int32, numpy=array([1, 2], dtype=int32)>"
            ]
          },
          "metadata": {
            "tags": []
          },
          "execution_count": 83
        }
      ]
    },
    {
      "cell_type": "code",
      "metadata": {
        "colab": {
          "base_uri": "https://localhost:8080/"
        },
        "id": "iplVmLS6SIWE",
        "outputId": "5ed6b90a-b2bf-4ab9-929a-aa2ec36baad2"
      },
      "source": [
        "c = tf.cast(c, dtype=tf.float16)\n",
        "c , c.dtype"
      ],
      "execution_count": null,
      "outputs": [
        {
          "output_type": "execute_result",
          "data": {
            "text/plain": [
              "(<tf.Tensor: shape=(2,), dtype=float16, numpy=array([1., 2.], dtype=float16)>,\n",
              " tf.float16)"
            ]
          },
          "metadata": {
            "tags": []
          },
          "execution_count": 86
        }
      ]
    },
    {
      "cell_type": "code",
      "metadata": {
        "colab": {
          "base_uri": "https://localhost:8080/"
        },
        "id": "7qLZc99YSRRl",
        "outputId": "74bef418-2bca-48b8-cbbb-0765363edbfd"
      },
      "source": [
        "E = tf.cast(c,dtype=tf.int32)\n",
        "E"
      ],
      "execution_count": null,
      "outputs": [
        {
          "output_type": "execute_result",
          "data": {
            "text/plain": [
              "<tf.Tensor: shape=(2,), dtype=int32, numpy=array([1, 2], dtype=int32)>"
            ]
          },
          "metadata": {
            "tags": []
          },
          "execution_count": 89
        }
      ]
    },
    {
      "cell_type": "markdown",
      "metadata": {
        "id": "PKR8L5a4SlS7"
      },
      "source": [
        "Aggregrating😁"
      ]
    },
    {
      "cell_type": "code",
      "metadata": {
        "id": "49YUbaJeS0v6"
      },
      "source": [
        "E = tf.constant(np.random.randint(0,100,size=50))"
      ],
      "execution_count": null,
      "outputs": []
    },
    {
      "cell_type": "code",
      "metadata": {
        "colab": {
          "base_uri": "https://localhost:8080/"
        },
        "id": "ZsNF570WUfTL",
        "outputId": "1c47106a-9a74-4d56-9c39-0ad9b8717711"
      },
      "source": [
        "tf.size(E)"
      ],
      "execution_count": null,
      "outputs": [
        {
          "output_type": "execute_result",
          "data": {
            "text/plain": [
              "<tf.Tensor: shape=(), dtype=int32, numpy=50>"
            ]
          },
          "metadata": {
            "tags": []
          },
          "execution_count": 91
        }
      ]
    },
    {
      "cell_type": "code",
      "metadata": {
        "colab": {
          "base_uri": "https://localhost:8080/"
        },
        "id": "gwqNnkqvUhh-",
        "outputId": "948e38aa-c901-4bcb-bea2-aab461d6b8b6"
      },
      "source": [
        "E"
      ],
      "execution_count": null,
      "outputs": [
        {
          "output_type": "execute_result",
          "data": {
            "text/plain": [
              "<tf.Tensor: shape=(50,), dtype=int64, numpy=\n",
              "array([15, 95, 48, 78, 36, 28, 58, 46, 20, 43, 80, 13, 26,  2, 79, 64, 64,\n",
              "       80, 97, 20, 18, 10, 57, 54,  2, 25, 22, 57, 58, 22,  8, 34, 98, 23,\n",
              "       65, 44,  1, 51, 95, 97, 45, 14, 43, 74, 36, 37, 81, 73, 35,  2])>"
            ]
          },
          "metadata": {
            "tags": []
          },
          "execution_count": 92
        }
      ]
    },
    {
      "cell_type": "code",
      "metadata": {
        "colab": {
          "base_uri": "https://localhost:8080/"
        },
        "id": "IxJ_kwNpUimE",
        "outputId": "98abe7e2-5576-4bc3-9f74-30b117511b43"
      },
      "source": [
        "tf.reduce_min(E)"
      ],
      "execution_count": null,
      "outputs": [
        {
          "output_type": "execute_result",
          "data": {
            "text/plain": [
              "<tf.Tensor: shape=(), dtype=int64, numpy=1>"
            ]
          },
          "metadata": {
            "tags": []
          },
          "execution_count": 93
        }
      ]
    },
    {
      "cell_type": "code",
      "metadata": {
        "colab": {
          "base_uri": "https://localhost:8080/"
        },
        "id": "bjgkErFWUsCn",
        "outputId": "2dac4306-570d-4b1f-b22e-6ef9ea69d94f"
      },
      "source": [
        "tf.reduce_sum(E)"
      ],
      "execution_count": null,
      "outputs": [
        {
          "output_type": "execute_result",
          "data": {
            "text/plain": [
              "<tf.Tensor: shape=(), dtype=int64, numpy=2273>"
            ]
          },
          "metadata": {
            "tags": []
          },
          "execution_count": 95
        }
      ]
    },
    {
      "cell_type": "code",
      "metadata": {
        "colab": {
          "base_uri": "https://localhost:8080/"
        },
        "id": "emINRgL3UyKt",
        "outputId": "5a7ffed3-992f-4732-bfdb-1d44a3c1bf1c"
      },
      "source": [
        "tf.reduce_mean(E)"
      ],
      "execution_count": null,
      "outputs": [
        {
          "output_type": "execute_result",
          "data": {
            "text/plain": [
              "<tf.Tensor: shape=(), dtype=int64, numpy=45>"
            ]
          },
          "metadata": {
            "tags": []
          },
          "execution_count": 99
        }
      ]
    },
    {
      "cell_type": "code",
      "metadata": {
        "id": "yvyE9lerVNZ2"
      },
      "source": [
        "# To find variance we import below :\n",
        "\n",
        "import tensorflow_probability as tfp"
      ],
      "execution_count": null,
      "outputs": []
    },
    {
      "cell_type": "code",
      "metadata": {
        "colab": {
          "base_uri": "https://localhost:8080/"
        },
        "id": "SO_ayIFYVaoS",
        "outputId": "4e304d23-4343-440e-ff7e-327caca5b9a9"
      },
      "source": [
        "tfp.stats.variance(E)"
      ],
      "execution_count": null,
      "outputs": [
        {
          "output_type": "execute_result",
          "data": {
            "text/plain": [
              "<tf.Tensor: shape=(), dtype=int64, numpy=813>"
            ]
          },
          "metadata": {
            "tags": []
          },
          "execution_count": 98
        }
      ]
    },
    {
      "cell_type": "code",
      "metadata": {
        "colab": {
          "base_uri": "https://localhost:8080/"
        },
        "id": "KGocCvX4Vfb7",
        "outputId": "aba7b472-08dd-4517-90d8-77eeb446f9ed"
      },
      "source": [
        "E"
      ],
      "execution_count": null,
      "outputs": [
        {
          "output_type": "execute_result",
          "data": {
            "text/plain": [
              "<tf.Tensor: shape=(50,), dtype=int64, numpy=\n",
              "array([15, 95, 48, 78, 36, 28, 58, 46, 20, 43, 80, 13, 26,  2, 79, 64, 64,\n",
              "       80, 97, 20, 18, 10, 57, 54,  2, 25, 22, 57, 58, 22,  8, 34, 98, 23,\n",
              "       65, 44,  1, 51, 95, 97, 45, 14, 43, 74, 36, 37, 81, 73, 35,  2])>"
            ]
          },
          "metadata": {
            "tags": []
          },
          "execution_count": 101
        }
      ]
    },
    {
      "cell_type": "code",
      "metadata": {
        "colab": {
          "base_uri": "https://localhost:8080/"
        },
        "id": "96Ob7vwmVsqI",
        "outputId": "5970eb3f-e829-45e1-fbf9-1441d938f70c"
      },
      "source": [
        "tf.math.reduce_std(tf.cast(E,dtype=tf.float32))"
      ],
      "execution_count": null,
      "outputs": [
        {
          "output_type": "execute_result",
          "data": {
            "text/plain": [
              "<tf.Tensor: shape=(), dtype=float32, numpy=28.525927>"
            ]
          },
          "metadata": {
            "tags": []
          },
          "execution_count": 104
        }
      ]
    },
    {
      "cell_type": "code",
      "metadata": {
        "colab": {
          "base_uri": "https://localhost:8080/",
          "height": 303
        },
        "id": "I46jhiaxWI-Q",
        "outputId": "85e1da34-6210-49e6-bf8c-563b1a8b4f6e"
      },
      "source": [
        "tf.math.reduce_std(E)"
      ],
      "execution_count": null,
      "outputs": [
        {
          "output_type": "error",
          "ename": "TypeError",
          "evalue": "ignored",
          "traceback": [
            "\u001b[0;31m---------------------------------------------------------------------------\u001b[0m",
            "\u001b[0;31mTypeError\u001b[0m                                 Traceback (most recent call last)",
            "\u001b[0;32m<ipython-input-107-4705f2bb2a39>\u001b[0m in \u001b[0;36m<module>\u001b[0;34m()\u001b[0m\n\u001b[0;32m----> 1\u001b[0;31m \u001b[0mtf\u001b[0m\u001b[0;34m.\u001b[0m\u001b[0mmath\u001b[0m\u001b[0;34m.\u001b[0m\u001b[0mreduce_std\u001b[0m\u001b[0;34m(\u001b[0m\u001b[0mE\u001b[0m\u001b[0;34m)\u001b[0m\u001b[0;34m\u001b[0m\u001b[0;34m\u001b[0m\u001b[0m\n\u001b[0m",
            "\u001b[0;32m/usr/local/lib/python3.7/dist-packages/tensorflow/python/util/dispatch.py\u001b[0m in \u001b[0;36mwrapper\u001b[0;34m(*args, **kwargs)\u001b[0m\n\u001b[1;32m    199\u001b[0m     \u001b[0;34m\"\"\"Call target, and fall back on dispatchers if there is a TypeError.\"\"\"\u001b[0m\u001b[0;34m\u001b[0m\u001b[0;34m\u001b[0m\u001b[0m\n\u001b[1;32m    200\u001b[0m     \u001b[0;32mtry\u001b[0m\u001b[0;34m:\u001b[0m\u001b[0;34m\u001b[0m\u001b[0;34m\u001b[0m\u001b[0m\n\u001b[0;32m--> 201\u001b[0;31m       \u001b[0;32mreturn\u001b[0m \u001b[0mtarget\u001b[0m\u001b[0;34m(\u001b[0m\u001b[0;34m*\u001b[0m\u001b[0margs\u001b[0m\u001b[0;34m,\u001b[0m \u001b[0;34m**\u001b[0m\u001b[0mkwargs\u001b[0m\u001b[0;34m)\u001b[0m\u001b[0;34m\u001b[0m\u001b[0;34m\u001b[0m\u001b[0m\n\u001b[0m\u001b[1;32m    202\u001b[0m     \u001b[0;32mexcept\u001b[0m \u001b[0;34m(\u001b[0m\u001b[0mTypeError\u001b[0m\u001b[0;34m,\u001b[0m \u001b[0mValueError\u001b[0m\u001b[0;34m)\u001b[0m\u001b[0;34m:\u001b[0m\u001b[0;34m\u001b[0m\u001b[0;34m\u001b[0m\u001b[0m\n\u001b[1;32m    203\u001b[0m       \u001b[0;31m# Note: convert_to_eager_tensor currently raises a ValueError, not a\u001b[0m\u001b[0;34m\u001b[0m\u001b[0;34m\u001b[0m\u001b[0;34m\u001b[0m\u001b[0m\n",
            "\u001b[0;32m/usr/local/lib/python3.7/dist-packages/tensorflow/python/ops/math_ops.py\u001b[0m in \u001b[0;36mreduce_std\u001b[0;34m(input_tensor, axis, keepdims, name)\u001b[0m\n\u001b[1;32m   2480\u001b[0m   \u001b[0mname\u001b[0m \u001b[0;34m=\u001b[0m \u001b[0mname\u001b[0m \u001b[0;32mif\u001b[0m \u001b[0mname\u001b[0m \u001b[0;32melse\u001b[0m \u001b[0;34m\"reduce_std\"\u001b[0m\u001b[0;34m\u001b[0m\u001b[0;34m\u001b[0m\u001b[0m\n\u001b[1;32m   2481\u001b[0m   \u001b[0;32mwith\u001b[0m \u001b[0mops\u001b[0m\u001b[0;34m.\u001b[0m\u001b[0mname_scope\u001b[0m\u001b[0;34m(\u001b[0m\u001b[0mname\u001b[0m\u001b[0;34m)\u001b[0m\u001b[0;34m:\u001b[0m\u001b[0;34m\u001b[0m\u001b[0;34m\u001b[0m\u001b[0m\n\u001b[0;32m-> 2482\u001b[0;31m     \u001b[0mvariance\u001b[0m \u001b[0;34m=\u001b[0m \u001b[0mreduce_variance\u001b[0m\u001b[0;34m(\u001b[0m\u001b[0minput_tensor\u001b[0m\u001b[0;34m,\u001b[0m \u001b[0maxis\u001b[0m\u001b[0;34m=\u001b[0m\u001b[0maxis\u001b[0m\u001b[0;34m,\u001b[0m \u001b[0mkeepdims\u001b[0m\u001b[0;34m=\u001b[0m\u001b[0mkeepdims\u001b[0m\u001b[0;34m)\u001b[0m\u001b[0;34m\u001b[0m\u001b[0;34m\u001b[0m\u001b[0m\n\u001b[0m\u001b[1;32m   2483\u001b[0m     \u001b[0;32mreturn\u001b[0m \u001b[0mgen_math_ops\u001b[0m\u001b[0;34m.\u001b[0m\u001b[0msqrt\u001b[0m\u001b[0;34m(\u001b[0m\u001b[0mvariance\u001b[0m\u001b[0;34m)\u001b[0m\u001b[0;34m\u001b[0m\u001b[0;34m\u001b[0m\u001b[0m\n\u001b[1;32m   2484\u001b[0m \u001b[0;34m\u001b[0m\u001b[0m\n",
            "\u001b[0;32m/usr/local/lib/python3.7/dist-packages/tensorflow/python/util/dispatch.py\u001b[0m in \u001b[0;36mwrapper\u001b[0;34m(*args, **kwargs)\u001b[0m\n\u001b[1;32m    199\u001b[0m     \u001b[0;34m\"\"\"Call target, and fall back on dispatchers if there is a TypeError.\"\"\"\u001b[0m\u001b[0;34m\u001b[0m\u001b[0;34m\u001b[0m\u001b[0m\n\u001b[1;32m    200\u001b[0m     \u001b[0;32mtry\u001b[0m\u001b[0;34m:\u001b[0m\u001b[0;34m\u001b[0m\u001b[0;34m\u001b[0m\u001b[0m\n\u001b[0;32m--> 201\u001b[0;31m       \u001b[0;32mreturn\u001b[0m \u001b[0mtarget\u001b[0m\u001b[0;34m(\u001b[0m\u001b[0;34m*\u001b[0m\u001b[0margs\u001b[0m\u001b[0;34m,\u001b[0m \u001b[0;34m**\u001b[0m\u001b[0mkwargs\u001b[0m\u001b[0;34m)\u001b[0m\u001b[0;34m\u001b[0m\u001b[0;34m\u001b[0m\u001b[0m\n\u001b[0m\u001b[1;32m    202\u001b[0m     \u001b[0;32mexcept\u001b[0m \u001b[0;34m(\u001b[0m\u001b[0mTypeError\u001b[0m\u001b[0;34m,\u001b[0m \u001b[0mValueError\u001b[0m\u001b[0;34m)\u001b[0m\u001b[0;34m:\u001b[0m\u001b[0;34m\u001b[0m\u001b[0;34m\u001b[0m\u001b[0m\n\u001b[1;32m    203\u001b[0m       \u001b[0;31m# Note: convert_to_eager_tensor currently raises a ValueError, not a\u001b[0m\u001b[0;34m\u001b[0m\u001b[0;34m\u001b[0m\u001b[0;34m\u001b[0m\u001b[0m\n",
            "\u001b[0;32m/usr/local/lib/python3.7/dist-packages/tensorflow/python/ops/math_ops.py\u001b[0m in \u001b[0;36mreduce_variance\u001b[0;34m(input_tensor, axis, keepdims, name)\u001b[0m\n\u001b[1;32m   2421\u001b[0m     \u001b[0mmeans\u001b[0m \u001b[0;34m=\u001b[0m \u001b[0mreduce_mean\u001b[0m\u001b[0;34m(\u001b[0m\u001b[0minput_tensor\u001b[0m\u001b[0;34m,\u001b[0m \u001b[0maxis\u001b[0m\u001b[0;34m=\u001b[0m\u001b[0maxis\u001b[0m\u001b[0;34m,\u001b[0m \u001b[0mkeepdims\u001b[0m\u001b[0;34m=\u001b[0m\u001b[0;32mTrue\u001b[0m\u001b[0;34m)\u001b[0m\u001b[0;34m\u001b[0m\u001b[0;34m\u001b[0m\u001b[0m\n\u001b[1;32m   2422\u001b[0m     \u001b[0;32mif\u001b[0m \u001b[0mmeans\u001b[0m\u001b[0;34m.\u001b[0m\u001b[0mdtype\u001b[0m\u001b[0;34m.\u001b[0m\u001b[0mis_integer\u001b[0m\u001b[0;34m:\u001b[0m\u001b[0;34m\u001b[0m\u001b[0;34m\u001b[0m\u001b[0m\n\u001b[0;32m-> 2423\u001b[0;31m       \u001b[0;32mraise\u001b[0m \u001b[0mTypeError\u001b[0m\u001b[0;34m(\u001b[0m\u001b[0;34m\"Input must be either real or complex\"\u001b[0m\u001b[0;34m)\u001b[0m\u001b[0;34m\u001b[0m\u001b[0;34m\u001b[0m\u001b[0m\n\u001b[0m\u001b[1;32m   2424\u001b[0m     \u001b[0mdiff\u001b[0m \u001b[0;34m=\u001b[0m \u001b[0minput_tensor\u001b[0m \u001b[0;34m-\u001b[0m \u001b[0mmeans\u001b[0m\u001b[0;34m\u001b[0m\u001b[0;34m\u001b[0m\u001b[0m\n\u001b[1;32m   2425\u001b[0m     \u001b[0;32mif\u001b[0m \u001b[0mdiff\u001b[0m\u001b[0;34m.\u001b[0m\u001b[0mdtype\u001b[0m\u001b[0;34m.\u001b[0m\u001b[0mis_complex\u001b[0m\u001b[0;34m:\u001b[0m\u001b[0;34m\u001b[0m\u001b[0;34m\u001b[0m\u001b[0m\n",
            "\u001b[0;31mTypeError\u001b[0m: Input must be either real or complex"
          ]
        }
      ]
    },
    {
      "cell_type": "code",
      "metadata": {
        "colab": {
          "base_uri": "https://localhost:8080/"
        },
        "id": "pXyrvQLCWtoi",
        "outputId": "f57002b4-b0dc-4cdf-d95c-6aca86c41ede"
      },
      "source": [
        "tf.math.reduce_variance(tf.cast(E,dtype=tf.float32))"
      ],
      "execution_count": null,
      "outputs": [
        {
          "output_type": "execute_result",
          "data": {
            "text/plain": [
              "<tf.Tensor: shape=(), dtype=float32, numpy=813.72845>"
            ]
          },
          "metadata": {
            "tags": []
          },
          "execution_count": 111
        }
      ]
    },
    {
      "cell_type": "markdown",
      "metadata": {
        "id": "0L986Az7W5uE"
      },
      "source": [
        "Positional Min and Max"
      ]
    },
    {
      "cell_type": "code",
      "metadata": {
        "colab": {
          "base_uri": "https://localhost:8080/"
        },
        "id": "7N3b_-k_X0Xt",
        "outputId": "379ea88b-9b6a-4268-f82c-0a90a12ffce7"
      },
      "source": [
        "tf.random.set_seed(42)\n",
        "F = tf.random.uniform(shape=[50])\n",
        "F"
      ],
      "execution_count": null,
      "outputs": [
        {
          "output_type": "execute_result",
          "data": {
            "text/plain": [
              "<tf.Tensor: shape=(50,), dtype=float32, numpy=\n",
              "array([0.6645621 , 0.44100678, 0.3528825 , 0.46448255, 0.03366041,\n",
              "       0.68467236, 0.74011743, 0.8724445 , 0.22632635, 0.22319686,\n",
              "       0.3103881 , 0.7223358 , 0.13318717, 0.5480639 , 0.5746088 ,\n",
              "       0.8996835 , 0.00946367, 0.5212307 , 0.6345445 , 0.1993283 ,\n",
              "       0.72942245, 0.54583454, 0.10756552, 0.6767061 , 0.6602763 ,\n",
              "       0.33695042, 0.60141766, 0.21062577, 0.8527372 , 0.44062173,\n",
              "       0.9485276 , 0.23752594, 0.81179297, 0.5263394 , 0.494308  ,\n",
              "       0.21612847, 0.8457197 , 0.8718841 , 0.3083862 , 0.6868038 ,\n",
              "       0.23764038, 0.7817228 , 0.9671384 , 0.06870162, 0.79873943,\n",
              "       0.66028714, 0.5871513 , 0.16461694, 0.7381023 , 0.32054043],\n",
              "      dtype=float32)>"
            ]
          },
          "metadata": {
            "tags": []
          },
          "execution_count": 113
        }
      ]
    },
    {
      "cell_type": "code",
      "metadata": {
        "colab": {
          "base_uri": "https://localhost:8080/"
        },
        "id": "poyhiIMEYDDK",
        "outputId": "a70b342f-7714-4885-9ef4-6a8ea25d60a5"
      },
      "source": [
        "tf.argmax(F)"
      ],
      "execution_count": null,
      "outputs": [
        {
          "output_type": "execute_result",
          "data": {
            "text/plain": [
              "<tf.Tensor: shape=(), dtype=int64, numpy=42>"
            ]
          },
          "metadata": {
            "tags": []
          },
          "execution_count": 115
        }
      ]
    },
    {
      "cell_type": "code",
      "metadata": {
        "colab": {
          "base_uri": "https://localhost:8080/"
        },
        "id": "zJ043fjDYJcV",
        "outputId": "40924f59-ab48-476a-8c5c-11997bf112b1"
      },
      "source": [
        "F[42]"
      ],
      "execution_count": null,
      "outputs": [
        {
          "output_type": "execute_result",
          "data": {
            "text/plain": [
              "<tf.Tensor: shape=(), dtype=float32, numpy=0.9671384>"
            ]
          },
          "metadata": {
            "tags": []
          },
          "execution_count": 116
        }
      ]
    },
    {
      "cell_type": "code",
      "metadata": {
        "colab": {
          "base_uri": "https://localhost:8080/"
        },
        "id": "m7JfG0mzYSPk",
        "outputId": "2cc277e0-d683-40a6-99bf-421df90ab72f"
      },
      "source": [
        "tf.reduce_max(F)"
      ],
      "execution_count": null,
      "outputs": [
        {
          "output_type": "execute_result",
          "data": {
            "text/plain": [
              "<tf.Tensor: shape=(), dtype=float32, numpy=0.9671384>"
            ]
          },
          "metadata": {
            "tags": []
          },
          "execution_count": 117
        }
      ]
    },
    {
      "cell_type": "code",
      "metadata": {
        "colab": {
          "base_uri": "https://localhost:8080/"
        },
        "id": "GeLmrW4JYWDB",
        "outputId": "8fb930d6-5ad3-4a21-fa03-dc7c61f82861"
      },
      "source": [
        "F[tf.argmax(F)]"
      ],
      "execution_count": null,
      "outputs": [
        {
          "output_type": "execute_result",
          "data": {
            "text/plain": [
              "<tf.Tensor: shape=(), dtype=float32, numpy=0.9671384>"
            ]
          },
          "metadata": {
            "tags": []
          },
          "execution_count": 118
        }
      ]
    },
    {
      "cell_type": "code",
      "metadata": {
        "colab": {
          "base_uri": "https://localhost:8080/"
        },
        "id": "XlT3t6f4YgOQ",
        "outputId": "e8b0d160-1610-4e2a-89ff-032c41a18156"
      },
      "source": [
        "tf.argmin(F)"
      ],
      "execution_count": null,
      "outputs": [
        {
          "output_type": "execute_result",
          "data": {
            "text/plain": [
              "<tf.Tensor: shape=(), dtype=int64, numpy=16>"
            ]
          },
          "metadata": {
            "tags": []
          },
          "execution_count": 119
        }
      ]
    },
    {
      "cell_type": "code",
      "metadata": {
        "colab": {
          "base_uri": "https://localhost:8080/"
        },
        "id": "VMnYSlI3Yu9R",
        "outputId": "6a5c212e-eba6-4449-b750-1e5a22bd5806"
      },
      "source": [
        "tf.reduce_min(F)"
      ],
      "execution_count": null,
      "outputs": [
        {
          "output_type": "execute_result",
          "data": {
            "text/plain": [
              "<tf.Tensor: shape=(), dtype=float32, numpy=0.009463668>"
            ]
          },
          "metadata": {
            "tags": []
          },
          "execution_count": 120
        }
      ]
    },
    {
      "cell_type": "code",
      "metadata": {
        "colab": {
          "base_uri": "https://localhost:8080/"
        },
        "id": "BoBDH_5EYy29",
        "outputId": "8a889af5-daf0-44a4-9dad-4776d7243a3f"
      },
      "source": [
        "F[16]"
      ],
      "execution_count": null,
      "outputs": [
        {
          "output_type": "execute_result",
          "data": {
            "text/plain": [
              "<tf.Tensor: shape=(), dtype=float32, numpy=0.009463668>"
            ]
          },
          "metadata": {
            "tags": []
          },
          "execution_count": 122
        }
      ]
    },
    {
      "cell_type": "markdown",
      "metadata": {
        "id": "rMbOPrZTY1Iv"
      },
      "source": [
        "Squeezing tensor - removing all single dimensions "
      ]
    },
    {
      "cell_type": "code",
      "metadata": {
        "id": "OVCOO--6ZDfE"
      },
      "source": [
        "G = tf.constant(tf.random.uniform(shape=[50]),shape = (1,1,1,50))"
      ],
      "execution_count": null,
      "outputs": []
    },
    {
      "cell_type": "code",
      "metadata": {
        "colab": {
          "base_uri": "https://localhost:8080/"
        },
        "id": "rdpMXraTZNbI",
        "outputId": "90e2af35-3486-48d1-d817-a680dbc20bc2"
      },
      "source": [
        "G"
      ],
      "execution_count": null,
      "outputs": [
        {
          "output_type": "execute_result",
          "data": {
            "text/plain": [
              "<tf.Tensor: shape=(1, 1, 1, 50), dtype=float32, numpy=\n",
              "array([[[[0.7413678 , 0.62854624, 0.01738465, 0.3431449 , 0.51063764,\n",
              "          0.3777541 , 0.07321596, 0.02137029, 0.2871771 , 0.4710616 ,\n",
              "          0.6936141 , 0.07321334, 0.93251204, 0.20843053, 0.70105827,\n",
              "          0.45856392, 0.8596262 , 0.92934334, 0.20291913, 0.76865506,\n",
              "          0.60016024, 0.27039742, 0.88180614, 0.05365038, 0.42274463,\n",
              "          0.89037776, 0.7887033 , 0.10165584, 0.19408834, 0.27896714,\n",
              "          0.39512634, 0.12235212, 0.38412368, 0.9455296 , 0.77594674,\n",
              "          0.94442344, 0.04296565, 0.4746096 , 0.6548251 , 0.5657116 ,\n",
              "          0.13858628, 0.3004663 , 0.3311677 , 0.12907016, 0.6435652 ,\n",
              "          0.45473957, 0.68881893, 0.30203617, 0.49152803, 0.26529062]]]],\n",
              "      dtype=float32)>"
            ]
          },
          "metadata": {
            "tags": []
          },
          "execution_count": 125
        }
      ]
    },
    {
      "cell_type": "code",
      "metadata": {
        "colab": {
          "base_uri": "https://localhost:8080/"
        },
        "id": "7vXGyUbRZUpu",
        "outputId": "c81a3247-8845-473a-cc1d-466d0b21956a"
      },
      "source": [
        "G.shape"
      ],
      "execution_count": null,
      "outputs": [
        {
          "output_type": "execute_result",
          "data": {
            "text/plain": [
              "TensorShape([1, 1, 1, 50])"
            ]
          },
          "metadata": {
            "tags": []
          },
          "execution_count": 126
        }
      ]
    },
    {
      "cell_type": "code",
      "metadata": {
        "colab": {
          "base_uri": "https://localhost:8080/"
        },
        "id": "JdTQbiTJZXtA",
        "outputId": "4fd388df-e169-4c3b-c58e-6100e39b72d2"
      },
      "source": [
        "G_squeezed = tf.squeeze(G)\n",
        "G_squeezed, G_squeezed.shape"
      ],
      "execution_count": null,
      "outputs": [
        {
          "output_type": "execute_result",
          "data": {
            "text/plain": [
              "(<tf.Tensor: shape=(50,), dtype=float32, numpy=\n",
              " array([0.7413678 , 0.62854624, 0.01738465, 0.3431449 , 0.51063764,\n",
              "        0.3777541 , 0.07321596, 0.02137029, 0.2871771 , 0.4710616 ,\n",
              "        0.6936141 , 0.07321334, 0.93251204, 0.20843053, 0.70105827,\n",
              "        0.45856392, 0.8596262 , 0.92934334, 0.20291913, 0.76865506,\n",
              "        0.60016024, 0.27039742, 0.88180614, 0.05365038, 0.42274463,\n",
              "        0.89037776, 0.7887033 , 0.10165584, 0.19408834, 0.27896714,\n",
              "        0.39512634, 0.12235212, 0.38412368, 0.9455296 , 0.77594674,\n",
              "        0.94442344, 0.04296565, 0.4746096 , 0.6548251 , 0.5657116 ,\n",
              "        0.13858628, 0.3004663 , 0.3311677 , 0.12907016, 0.6435652 ,\n",
              "        0.45473957, 0.68881893, 0.30203617, 0.49152803, 0.26529062],\n",
              "       dtype=float32)>, TensorShape([50]))"
            ]
          },
          "metadata": {
            "tags": []
          },
          "execution_count": 128
        }
      ]
    },
    {
      "cell_type": "markdown",
      "metadata": {
        "id": "bt_qOs6yZxoT"
      },
      "source": [
        "One hot encoding🐱‍💻"
      ]
    },
    {
      "cell_type": "code",
      "metadata": {
        "id": "0RmLi3P3aQAr"
      },
      "source": [
        "some_list = [1,2,3,4]"
      ],
      "execution_count": null,
      "outputs": []
    },
    {
      "cell_type": "code",
      "metadata": {
        "colab": {
          "base_uri": "https://localhost:8080/"
        },
        "id": "-WNrL7ySa7tH",
        "outputId": "25ed38db-f337-4eaf-ee09-bca73ce03a59"
      },
      "source": [
        "tf.one_hot(some_list,depth=4)"
      ],
      "execution_count": null,
      "outputs": [
        {
          "output_type": "execute_result",
          "data": {
            "text/plain": [
              "<tf.Tensor: shape=(4, 4), dtype=float32, numpy=\n",
              "array([[0., 1., 0., 0.],\n",
              "       [0., 0., 1., 0.],\n",
              "       [0., 0., 0., 1.],\n",
              "       [0., 0., 0., 0.]], dtype=float32)>"
            ]
          },
          "metadata": {
            "tags": []
          },
          "execution_count": 132
        }
      ]
    },
    {
      "cell_type": "code",
      "metadata": {
        "colab": {
          "base_uri": "https://localhost:8080/"
        },
        "id": "oOBnrs_LbAzV",
        "outputId": "0715d007-7003-4e8b-8df6-9537295df72b"
      },
      "source": [
        "#We can interchangeably use array and tensor\n",
        "J = tf.constant(np.array([3.,7,]))\n",
        "J"
      ],
      "execution_count": null,
      "outputs": [
        {
          "output_type": "execute_result",
          "data": {
            "text/plain": [
              "<tf.Tensor: shape=(2,), dtype=float64, numpy=array([3., 7.])>"
            ]
          },
          "metadata": {
            "tags": []
          },
          "execution_count": 133
        }
      ]
    },
    {
      "cell_type": "code",
      "metadata": {
        "colab": {
          "base_uri": "https://localhost:8080/"
        },
        "id": "wjW7GDF2dkw1",
        "outputId": "000ba4f6-23b0-40a3-c8da-715d398fb211"
      },
      "source": [
        "np.array(J),type(np.array(J))"
      ],
      "execution_count": null,
      "outputs": [
        {
          "output_type": "execute_result",
          "data": {
            "text/plain": [
              "(array([3., 7.]), numpy.ndarray)"
            ]
          },
          "metadata": {
            "tags": []
          },
          "execution_count": 134
        }
      ]
    },
    {
      "cell_type": "code",
      "metadata": {
        "id": "U90jUkRzdszG"
      },
      "source": [
        " "
      ],
      "execution_count": null,
      "outputs": []
    }
  ]
}