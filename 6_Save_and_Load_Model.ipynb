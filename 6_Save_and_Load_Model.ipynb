{
  "nbformat": 4,
  "nbformat_minor": 0,
  "metadata": {
    "colab": {
      "name": "6 Save and Load Model.ipynb",
      "provenance": [],
      "collapsed_sections": [],
      "mount_file_id": "1x7KIS5gpnzq3jTZzJT-iFKtRo0FdHign",
      "authorship_tag": "ABX9TyMZEZqVth7S3sVa8wKxwT5l",
      "include_colab_link": true
    },
    "kernelspec": {
      "name": "python3",
      "display_name": "Python 3"
    },
    "language_info": {
      "name": "python"
    }
  },
  "cells": [
    {
      "cell_type": "markdown",
      "metadata": {
        "id": "view-in-github",
        "colab_type": "text"
      },
      "source": [
        "<a href=\"https://colab.research.google.com/github/aakashkumarme/ML-LEARN/blob/main/6_Save_and_Load_Model.ipynb\" target=\"_parent\"><img src=\"https://colab.research.google.com/assets/colab-badge.svg\" alt=\"Open In Colab\"/></a>"
      ]
    },
    {
      "cell_type": "markdown",
      "metadata": {
        "id": "CJGDynPF7xc8"
      },
      "source": [
        "Two ways to save and load\n",
        "\n",
        "\n",
        "1.   Pickle module\n",
        "2.   Joblib module\n"
      ]
    },
    {
      "cell_type": "code",
      "metadata": {
        "id": "-gSsyt1S8WX2"
      },
      "source": [
        "import pandas as pd\n",
        "import numpy as np\n",
        "from sklearn.ensemble import RandomForestClassifier\n",
        "\n",
        "np.random.seed(42)\n",
        "heart_diseases = pd.read_csv(\"/content/drive/MyDrive/dataset/heart-disease.csv\")\n",
        "heart_diseases.head()\n",
        "\n",
        "#shuffle the data\n",
        "heart_diseases_shuffled = heart_diseases.sample(frac=1)\n",
        "\n",
        "X = heart_diseases_shuffled.drop(\"target\",axis = 1)\n",
        "y = heart_diseases_shuffled[\"target\"]\n",
        "\n",
        "#Split the data into train, validation and test\n",
        "train_split = round(0.7 * len(heart_diseases_shuffled))\n",
        "valid_split = round(train_split + 0.15 * len(heart_diseases_shuffled))\n",
        "\n",
        "X_train,y_train = X[:train_split],y[:train_split]\n",
        "X_valid,y_valid = X[train_split:valid_split],y[train_split:valid_split]\n",
        "X_test,y_test = X[valid_split:],y[:valid_split]\n",
        "\n",
        "len(X_train) , len(X_valid) , len(X_test)\n",
        "\n",
        "clf = RandomForestClassifier()\n",
        "clf.fit(X_train,y_train)\n",
        "y_preds = clf.predict(X_valid)"
      ],
      "execution_count": 2,
      "outputs": []
    },
    {
      "cell_type": "markdown",
      "metadata": {
        "id": "H_vaosRK91cR"
      },
      "source": [
        "# **Pickle Module**"
      ]
    },
    {
      "cell_type": "code",
      "metadata": {
        "id": "WEC1Mv508Hfv"
      },
      "source": [
        "import pickle\n",
        "\n",
        "#save an existing model to file\n",
        "pickle.dump(clf,open(\"clf_randomForestClassifier.pk1\",\"wb\"))\n",
        " \n",
        "#load saved model\n",
        "loaded_pickle_model = pickle.load(open(\"clf_randomForestClassifier.pk1\", \"rb\" ))"
      ],
      "execution_count": 8,
      "outputs": []
    },
    {
      "cell_type": "code",
      "metadata": {
        "colab": {
          "base_uri": "https://localhost:8080/"
        },
        "id": "wCcvYLIj81kj",
        "outputId": "24a2f327-82ca-46fc-91fa-b024b76304ac"
      },
      "source": [
        "#make some predictions\n",
        "pickle_y_preds = loaded_pickle_model.predict(X_test)\n",
        "pickle_y_preds"
      ],
      "execution_count": 10,
      "outputs": [
        {
          "output_type": "execute_result",
          "data": {
            "text/plain": [
              "array([1, 1, 1, 0, 0, 1, 0, 0, 0, 0, 1, 0, 0, 1, 0, 0, 1, 1, 0, 1, 0, 0,\n",
              "       0, 1, 1, 0, 0, 1, 1, 0, 0, 0, 1, 1, 1, 1, 1, 0, 1, 1, 0, 1, 1, 0,\n",
              "       1, 1])"
            ]
          },
          "metadata": {
            "tags": []
          },
          "execution_count": 10
        }
      ]
    },
    {
      "cell_type": "markdown",
      "metadata": {
        "id": "_DDlyxZL-KRs"
      },
      "source": [
        "## **Joblib module**"
      ]
    },
    {
      "cell_type": "code",
      "metadata": {
        "colab": {
          "base_uri": "https://localhost:8080/"
        },
        "id": "_9NQPNed9uws",
        "outputId": "6e885cf8-273e-4427-8b39-a3e5f67613d4"
      },
      "source": [
        "from joblib import dump, load\n",
        "\n",
        "#save the model\n",
        "dump(clf,filename = \"clfRF.joblib\")"
      ],
      "execution_count": 13,
      "outputs": [
        {
          "output_type": "execute_result",
          "data": {
            "text/plain": [
              "['clfRF.joblib']"
            ]
          },
          "metadata": {
            "tags": []
          },
          "execution_count": 13
        }
      ]
    },
    {
      "cell_type": "code",
      "metadata": {
        "id": "5mMEmM-7-bi3"
      },
      "source": [
        "#load the model\n",
        "loaded_joblib_model = load (filename=\"clfRF.joblib\")"
      ],
      "execution_count": 18,
      "outputs": []
    },
    {
      "cell_type": "code",
      "metadata": {
        "colab": {
          "base_uri": "https://localhost:8080/"
        },
        "id": "m4Ukztyx-qLp",
        "outputId": "deded1ab-48d8-4574-8ece-2c07a8948b29"
      },
      "source": [
        "#make some predictions\n",
        "\n",
        "joblib_y_preds = loaded_joblib_model.predict(X_test)\n",
        "joblib_y_preds"
      ],
      "execution_count": 19,
      "outputs": [
        {
          "output_type": "execute_result",
          "data": {
            "text/plain": [
              "array([1, 1, 1, 0, 0, 1, 0, 0, 0, 0, 1, 0, 0, 1, 0, 0, 1, 1, 0, 1, 0, 0,\n",
              "       0, 1, 1, 0, 0, 1, 1, 0, 0, 0, 1, 1, 1, 1, 1, 0, 1, 1, 0, 1, 1, 0,\n",
              "       1, 1])"
            ]
          },
          "metadata": {
            "tags": []
          },
          "execution_count": 19
        }
      ]
    },
    {
      "cell_type": "code",
      "metadata": {
        "id": "fM-EZJZA-5GI"
      },
      "source": [
        ""
      ],
      "execution_count": null,
      "outputs": []
    }
  ]
}