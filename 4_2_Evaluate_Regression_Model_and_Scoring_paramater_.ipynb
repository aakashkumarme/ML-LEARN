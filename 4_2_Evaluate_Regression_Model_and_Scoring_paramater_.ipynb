{
  "nbformat": 4,
  "nbformat_minor": 0,
  "metadata": {
    "colab": {
      "name": "4.2.Evaluate Regression Model and Scoring paramater .ipynb",
      "provenance": [],
      "collapsed_sections": [],
      "mount_file_id": "16jP24IicSCB5zNgxcYrI0GX2zWeb9Mor",
      "authorship_tag": "ABX9TyNImcW8FZk3ALKyX01V7BxS",
      "include_colab_link": true
    },
    "kernelspec": {
      "name": "python3",
      "display_name": "Python 3"
    },
    "language_info": {
      "name": "python"
    }
  },
  "cells": [
    {
      "cell_type": "markdown",
      "metadata": {
        "id": "view-in-github",
        "colab_type": "text"
      },
      "source": [
        "<a href=\"https://colab.research.google.com/github/aakashkumarme/TFLEARN/blob/main/4_2_Evaluate_Regression_Model_and_Scoring_paramater_.ipynb\" target=\"_parent\"><img src=\"https://colab.research.google.com/assets/colab-badge.svg\" alt=\"Open In Colab\"/></a>"
      ]
    },
    {
      "cell_type": "markdown",
      "metadata": {
        "id": "caSRGLjXHCUQ"
      },
      "source": [
        "# **Regression Model Evaluation Metrics/Techniques**\n",
        "\n",
        "R^2 (pronounced r-squared) or the coefficient of determination - Compares your model's predictions to the mean of the targets. Values can range from negative infinity (a very poor model) to 1. For example, if all your model does is predict the mean of the targets, its R^2 value would be 0. And if your model perfectly predicts a range of numbers it's R^2 value would be 1.\n",
        "\n",
        "Mean absolute error (MAE) - The average of the absolute differences between predictions and actual values. It gives you an idea of how wrong your predictions were.\n",
        "\n",
        "Mean squared error (MSE) - The average squared differences between predictions and actual values. Squaring the errors removes negative errors. It also amplifies outliers (samples which have larger errors).\n",
        "\n",
        "Which regression metric should you use?\n",
        "\n",
        "R2 is similar to accuracy. It gives you a quick indication of how well your model might be doing. Generally, the closer your R2 value is to 1.0, the better the model. But it doesn't really tell exactly how wrong your model is in terms of how far off each prediction is.\n",
        "\n",
        "MAE gives a better indication of how far off each of your model's predictions are on average.\n",
        "\n",
        "As for MAE or MSE, because of the way MSE is calculated, squaring the differences between predicted values and actual values, it amplifies larger differences. Let's say we're predicting the value of houses (which we are).\n",
        "\n",
        "Pay more attention to MAE: When being $10,000 off is twice as bad as being $5,000 off.\n",
        "\n",
        "Pay more attention to MSE: When being $10,000 off is more than twice as bad as being $5,000 off."
      ]
    },
    {
      "cell_type": "code",
      "metadata": {
        "colab": {
          "base_uri": "https://localhost:8080/"
        },
        "id": "YFfo_NDbIXaS",
        "outputId": "4dba1899-d8f6-4d62-b0db-d150bd3a55f6"
      },
      "source": [
        "import pandas as pd\n",
        "import numpy as np\n",
        "import matplotlib.pyplot as plt\n",
        "\n",
        "from sklearn.datasets import load_boston\n",
        "boston = load_boston()\n",
        "\n",
        "boston_df = pd.DataFrame(boston[\"data\"], columns = boston[\"feature_names\"])\n",
        "boston_df[\"target\"] = pd.Series(boston[\"target\"])\n",
        "boston_df.head()\n",
        "\n",
        "X = boston_df.drop(\"target\" , axis=1)\n",
        "y = boston_df[\"target\"]\n",
        " \n",
        "np.random.seed(42)\n",
        "\n",
        "from sklearn.model_selection import train_test_split\n",
        "X_train,X_test,y_train,y_test = train_test_split(X,y,test_size = 0.2)\n",
        "\n",
        "from sklearn.ensemble import RandomForestRegressor\n",
        "clf = RandomForestRegressor()\n",
        "clf.fit(X_train,y_train)\n",
        "clf.score(X_test,y_test)"
      ],
      "execution_count": 1,
      "outputs": [
        {
          "output_type": "execute_result",
          "data": {
            "text/plain": [
              "0.873969014117403"
            ]
          },
          "metadata": {
            "tags": []
          },
          "execution_count": 1
        }
      ]
    },
    {
      "cell_type": "markdown",
      "metadata": {
        "id": "KuA4DDWRmE2a"
      },
      "source": [
        "r2_score or coefficient of determination\n",
        "\n",
        "1.   Compares your model prediction with , \"mean of  target\".\n",
        "\n"
      ]
    },
    {
      "cell_type": "code",
      "metadata": {
        "colab": {
          "base_uri": "https://localhost:8080/"
        },
        "id": "28mQ5LfAJFPP",
        "outputId": "f1db5c9e-80c3-4f32-b01d-9c7690b93378"
      },
      "source": [
        "from sklearn.metrics import r2_score \n",
        "\n",
        "#lets get y_test mean\n",
        "y_test_mean = np.full(len(y_test),y_test.mean())\n",
        "y_test.mean()"
      ],
      "execution_count": 2,
      "outputs": [
        {
          "output_type": "execute_result",
          "data": {
            "text/plain": [
              "21.488235294117654"
            ]
          },
          "metadata": {
            "tags": []
          },
          "execution_count": 2
        }
      ]
    },
    {
      "cell_type": "code",
      "metadata": {
        "colab": {
          "base_uri": "https://localhost:8080/"
        },
        "id": "jsG5IyKkJ-02",
        "outputId": "863fc713-c22a-4b09-bc67-e1fd05146536"
      },
      "source": [
        "r2_score(y_test, y_test_mean)"
      ],
      "execution_count": 5,
      "outputs": [
        {
          "output_type": "execute_result",
          "data": {
            "text/plain": [
              "2.220446049250313e-16"
            ]
          },
          "metadata": {
            "tags": []
          },
          "execution_count": 5
        }
      ]
    },
    {
      "cell_type": "code",
      "metadata": {
        "colab": {
          "base_uri": "https://localhost:8080/"
        },
        "id": "BIMoLTdBKNiU",
        "outputId": "4e27193a-ccd3-4a3a-a8f3-e21925c23776"
      },
      "source": [
        "r2_score(y_test,y_test)"
      ],
      "execution_count": 4,
      "outputs": [
        {
          "output_type": "execute_result",
          "data": {
            "text/plain": [
              "1.0"
            ]
          },
          "metadata": {
            "tags": []
          },
          "execution_count": 4
        }
      ]
    },
    {
      "cell_type": "markdown",
      "metadata": {
        "id": "065Yk-MaoQXi"
      },
      "source": [
        "## **MAE**"
      ]
    },
    {
      "cell_type": "code",
      "metadata": {
        "id": "mcTY6ZDMKdK-",
        "colab": {
          "base_uri": "https://localhost:8080/"
        },
        "outputId": "be10f041-d2a1-409f-b274-d7afd1ea9e5c"
      },
      "source": [
        "from sklearn.metrics import mean_absolute_error\n",
        "\n",
        "y_preds = clf.predict(X_test)\n",
        "\n",
        "mae = mean_absolute_error(y_test,y_preds)\n",
        "mae"
      ],
      "execution_count": 7,
      "outputs": [
        {
          "output_type": "execute_result",
          "data": {
            "text/plain": [
              "2.1226372549019623"
            ]
          },
          "metadata": {
            "tags": []
          },
          "execution_count": 7
        }
      ]
    },
    {
      "cell_type": "code",
      "metadata": {
        "colab": {
          "base_uri": "https://localhost:8080/",
          "height": 402
        },
        "id": "FCT4sD73ofmK",
        "outputId": "4c68e648-bb0b-408e-e0e9-2daa4b13ee8a"
      },
      "source": [
        "df = pd.DataFrame(data={\"Actual values\" : y_test,\n",
        "                       \"predicted_values\" : y_preds})\n",
        "df[\"differences\"] = df[\"predicted_values\"] - df[\"Actual values\"]\n",
        "df"
      ],
      "execution_count": 12,
      "outputs": [
        {
          "output_type": "execute_result",
          "data": {
            "text/html": [
              "<div>\n",
              "<style scoped>\n",
              "    .dataframe tbody tr th:only-of-type {\n",
              "        vertical-align: middle;\n",
              "    }\n",
              "\n",
              "    .dataframe tbody tr th {\n",
              "        vertical-align: top;\n",
              "    }\n",
              "\n",
              "    .dataframe thead th {\n",
              "        text-align: right;\n",
              "    }\n",
              "</style>\n",
              "<table border=\"1\" class=\"dataframe\">\n",
              "  <thead>\n",
              "    <tr style=\"text-align: right;\">\n",
              "      <th></th>\n",
              "      <th>Actual values</th>\n",
              "      <th>predicted_values</th>\n",
              "      <th>differences</th>\n",
              "    </tr>\n",
              "  </thead>\n",
              "  <tbody>\n",
              "    <tr>\n",
              "      <th>173</th>\n",
              "      <td>23.6</td>\n",
              "      <td>23.002</td>\n",
              "      <td>-0.598</td>\n",
              "    </tr>\n",
              "    <tr>\n",
              "      <th>274</th>\n",
              "      <td>32.4</td>\n",
              "      <td>30.826</td>\n",
              "      <td>-1.574</td>\n",
              "    </tr>\n",
              "    <tr>\n",
              "      <th>491</th>\n",
              "      <td>13.6</td>\n",
              "      <td>16.734</td>\n",
              "      <td>3.134</td>\n",
              "    </tr>\n",
              "    <tr>\n",
              "      <th>72</th>\n",
              "      <td>22.8</td>\n",
              "      <td>23.467</td>\n",
              "      <td>0.667</td>\n",
              "    </tr>\n",
              "    <tr>\n",
              "      <th>452</th>\n",
              "      <td>16.1</td>\n",
              "      <td>16.853</td>\n",
              "      <td>0.753</td>\n",
              "    </tr>\n",
              "    <tr>\n",
              "      <th>...</th>\n",
              "      <td>...</td>\n",
              "      <td>...</td>\n",
              "      <td>...</td>\n",
              "    </tr>\n",
              "    <tr>\n",
              "      <th>412</th>\n",
              "      <td>17.9</td>\n",
              "      <td>13.030</td>\n",
              "      <td>-4.870</td>\n",
              "    </tr>\n",
              "    <tr>\n",
              "      <th>436</th>\n",
              "      <td>9.6</td>\n",
              "      <td>12.490</td>\n",
              "      <td>2.890</td>\n",
              "    </tr>\n",
              "    <tr>\n",
              "      <th>411</th>\n",
              "      <td>17.2</td>\n",
              "      <td>13.406</td>\n",
              "      <td>-3.794</td>\n",
              "    </tr>\n",
              "    <tr>\n",
              "      <th>86</th>\n",
              "      <td>22.5</td>\n",
              "      <td>20.219</td>\n",
              "      <td>-2.281</td>\n",
              "    </tr>\n",
              "    <tr>\n",
              "      <th>75</th>\n",
              "      <td>21.4</td>\n",
              "      <td>23.898</td>\n",
              "      <td>2.498</td>\n",
              "    </tr>\n",
              "  </tbody>\n",
              "</table>\n",
              "<p>102 rows × 3 columns</p>\n",
              "</div>"
            ],
            "text/plain": [
              "     Actual values  predicted_values  differences\n",
              "173           23.6            23.002       -0.598\n",
              "274           32.4            30.826       -1.574\n",
              "491           13.6            16.734        3.134\n",
              "72            22.8            23.467        0.667\n",
              "452           16.1            16.853        0.753\n",
              "..             ...               ...          ...\n",
              "412           17.9            13.030       -4.870\n",
              "436            9.6            12.490        2.890\n",
              "411           17.2            13.406       -3.794\n",
              "86            22.5            20.219       -2.281\n",
              "75            21.4            23.898        2.498\n",
              "\n",
              "[102 rows x 3 columns]"
            ]
          },
          "metadata": {
            "tags": []
          },
          "execution_count": 12
        }
      ]
    },
    {
      "cell_type": "markdown",
      "metadata": {
        "id": "eyQRAe1RphL_"
      },
      "source": [
        "# MSE"
      ]
    },
    {
      "cell_type": "code",
      "metadata": {
        "colab": {
          "base_uri": "https://localhost:8080/"
        },
        "id": "EbkGojwrothB",
        "outputId": "028fe964-db16-4cff-caff-90fa438aca2e"
      },
      "source": [
        "from sklearn.metrics import  mean_squared_error\n",
        "\n",
        "y_preds = clf.predict(X_test)\n",
        "\n",
        "mse = mean_squared_error(y_test,y_preds) \n",
        "mse"
      ],
      "execution_count": 15,
      "outputs": [
        {
          "output_type": "execute_result",
          "data": {
            "text/plain": [
              "9.242328990196082"
            ]
          },
          "metadata": {
            "tags": []
          },
          "execution_count": 15
        }
      ]
    },
    {
      "cell_type": "markdown",
      "metadata": {
        "id": "YJ5bJtxFrPGv"
      },
      "source": [
        "### ***Using Scoring parameter for classification***"
      ]
    },
    {
      "cell_type": "code",
      "metadata": {
        "id": "eoCME9Dup8NB"
      },
      "source": [
        "import pandas as pd\n",
        "import numpy as np\n",
        "\n",
        "\n",
        "from sklearn.ensemble import RandomForestClassifier\n",
        "\n",
        "np.random.seed(42)\n",
        "\n",
        "heart_diseases = pd.read_csv(\"/content/drive/MyDrive/dataset/heart-disease.csv\")\n",
        "heart_diseases.head()\n",
        "\n",
        "X = heart_diseases.drop(\"target\",axis = 1)\n",
        "y = heart_diseases[\"target\"]\n",
        "\n",
        "clf = RandomForestClassifier(n_estimators=100)\n",
        "\n"
      ],
      "execution_count": 26,
      "outputs": []
    },
    {
      "cell_type": "markdown",
      "metadata": {
        "id": "93sGnAR-vWnu"
      },
      "source": [
        "#scoring=None"
      ]
    },
    {
      "cell_type": "code",
      "metadata": {
        "colab": {
          "base_uri": "https://localhost:8080/"
        },
        "id": "MIUY_PLesRI4",
        "outputId": "efc49a6d-6003-4b3f-f25d-76a78a7e1a69"
      },
      "source": [
        "from sklearn.model_selection import cross_val_score\n",
        "#scoring=None\n",
        "np.random.seed(42)\n",
        "cv_acc = cross_val_score(clf,X,y,cv=5,scoring=None)\n",
        "cv_acc\n",
        "print (f'{np.mean(cv_acc)*100:.2f}%')"
      ],
      "execution_count": 29,
      "outputs": [
        {
          "output_type": "stream",
          "text": [
            "82.48%\n"
          ],
          "name": "stdout"
        }
      ]
    },
    {
      "cell_type": "markdown",
      "metadata": {
        "id": "LgQe57exvvOU"
      },
      "source": [
        "if nothing is passed in score - accuracy is default"
      ]
    },
    {
      "cell_type": "code",
      "metadata": {
        "colab": {
          "base_uri": "https://localhost:8080/"
        },
        "id": "Eb2gQUXHv6Tg",
        "outputId": "dbce7a45-e142-44e4-c07b-73736956247c"
      },
      "source": [
        "np.random.seed(42)\n",
        "cv_acc = cross_val_score(clf,X,y,cv=5,scoring=\"accuracy\")\n",
        "cv_acc\n",
        "print (f'{np.mean(cv_acc)*100:.2f}%')"
      ],
      "execution_count": 33,
      "outputs": [
        {
          "output_type": "stream",
          "text": [
            "82.48%\n"
          ],
          "name": "stdout"
        }
      ]
    },
    {
      "cell_type": "code",
      "metadata": {
        "colab": {
          "base_uri": "https://localhost:8080/"
        },
        "id": "g16ZnOy_v7j5",
        "outputId": "89647ff4-6ad8-429a-c99c-93f9af97dfa5"
      },
      "source": [
        "np.random.seed(42)\n",
        "cv_acc = cross_val_score(clf,X,y,cv=5,scoring=\"precision\")\n",
        "cv_acc\n",
        "print (f'{np.mean(cv_acc)*100:.2f}%')"
      ],
      "execution_count": 34,
      "outputs": [
        {
          "output_type": "stream",
          "text": [
            "83.30%\n"
          ],
          "name": "stdout"
        }
      ]
    },
    {
      "cell_type": "code",
      "metadata": {
        "colab": {
          "base_uri": "https://localhost:8080/"
        },
        "id": "kaKDECC0wTvb",
        "outputId": "a21f77d9-cff7-4577-e1c1-e87a992e9856"
      },
      "source": [
        "np.random.seed(42)\n",
        "cv_acc = cross_val_score(clf,X,y,cv=5,scoring=\"recall\")\n",
        "cv_acc\n",
        "print (f'{np.mean(cv_acc)*100:.2f}%')"
      ],
      "execution_count": 35,
      "outputs": [
        {
          "output_type": "stream",
          "text": [
            "85.45%\n"
          ],
          "name": "stdout"
        }
      ]
    },
    {
      "cell_type": "code",
      "metadata": {
        "colab": {
          "base_uri": "https://localhost:8080/"
        },
        "id": "5h4jm8EEwYRa",
        "outputId": "7bd3a3dc-18c1-4f57-983c-ac85612f6514"
      },
      "source": [
        "np.random.seed(42)\n",
        "cv_acc = cross_val_score(clf,X,y,cv=5,scoring=\"f1\")\n",
        "cv_acc\n",
        "print (f'{np.mean(cv_acc)*100:.2f}%')"
      ],
      "execution_count": 36,
      "outputs": [
        {
          "output_type": "stream",
          "text": [
            "84.27%\n"
          ],
          "name": "stdout"
        }
      ]
    },
    {
      "cell_type": "markdown",
      "metadata": {
        "id": "jMVq7Yq-wrMN"
      },
      "source": [
        "# Using scoring parameter for regression model"
      ]
    },
    {
      "cell_type": "code",
      "metadata": {
        "colab": {
          "base_uri": "https://localhost:8080/"
        },
        "id": "-158GRKBwe44",
        "outputId": "a31082c6-2ee4-4628-e4dc-68cd3a182c38"
      },
      "source": [
        "import pandas as pd\n",
        "import numpy as np\n",
        "import matplotlib.pyplot as plt\n",
        "\n",
        "from sklearn.datasets import load_boston\n",
        "boston = load_boston()\n",
        "\n",
        "boston_df = pd.DataFrame(boston[\"data\"], columns = boston[\"feature_names\"])\n",
        "boston_df[\"target\"] = pd.Series(boston[\"target\"])\n",
        "boston_df.head()\n",
        "\n",
        "X = boston_df.drop(\"target\" , axis=1)\n",
        "y = boston_df[\"target\"]\n",
        " \n",
        "np.random.seed(42)\n",
        "\n",
        "from sklearn.model_selection import train_test_split\n",
        "X_train,X_test,y_train,y_test = train_test_split(X,y,test_size = 0.2)\n",
        "\n",
        "from sklearn.ensemble import RandomForestRegressor\n",
        "clf = RandomForestRegressor()\n",
        "clf.fit(X_train,y_train)\n",
        "clf.score(X_test,y_test)"
      ],
      "execution_count": 37,
      "outputs": [
        {
          "output_type": "execute_result",
          "data": {
            "text/plain": [
              "0.873969014117403"
            ]
          },
          "metadata": {
            "tags": []
          },
          "execution_count": 37
        }
      ]
    },
    {
      "cell_type": "code",
      "metadata": {
        "colab": {
          "base_uri": "https://localhost:8080/"
        },
        "id": "cMH1GMhdw3RQ",
        "outputId": "9180b4f5-70e5-4ba2-8660-0071cb119ed2"
      },
      "source": [
        "from sklearn.model_selection import cross_val_score\n",
        "cv_r2 = cross_val_score(clf,X,y,cv=5,scoring=None)\n",
        "cv_r2"
      ],
      "execution_count": 41,
      "outputs": [
        {
          "output_type": "execute_result",
          "data": {
            "text/plain": [
              "array([0.77128102, 0.85496899, 0.75244145, 0.47998463, 0.27525122])"
            ]
          },
          "metadata": {
            "tags": []
          },
          "execution_count": 41
        }
      ]
    },
    {
      "cell_type": "code",
      "metadata": {
        "colab": {
          "base_uri": "https://localhost:8080/"
        },
        "id": "wv6YCWSIxNgF",
        "outputId": "1acd6540-cb87-459d-e2cd-5960486d92e0"
      },
      "source": [
        "cv_mae =  cross_val_score(clf,X,y,cv=5,scoring=\"neg_mean_absolute_error\")\n",
        "cv_mae"
      ],
      "execution_count": 42,
      "outputs": [
        {
          "output_type": "execute_result",
          "data": {
            "text/plain": [
              "array([-2.09036275, -2.6690198 , -3.38085149, -3.75727723, -3.04867327])"
            ]
          },
          "metadata": {
            "tags": []
          },
          "execution_count": 42
        }
      ]
    },
    {
      "cell_type": "code",
      "metadata": {
        "colab": {
          "base_uri": "https://localhost:8080/"
        },
        "id": "fvipZ5kpxi77",
        "outputId": "afeee206-2c85-47f2-f503-cbaff809f92d"
      },
      "source": [
        "cv_mse = cross_val_score(clf,X,y,cv=5,scoring=\"neg_mean_squared_error\")\n",
        "cv_mse\n",
        "np.mean(cv_mse)"
      ],
      "execution_count": 44,
      "outputs": [
        {
          "output_type": "execute_result",
          "data": {
            "text/plain": [
              "-22.024957134439905"
            ]
          },
          "metadata": {
            "tags": []
          },
          "execution_count": 44
        }
      ]
    },
    {
      "cell_type": "markdown",
      "metadata": {
        "id": "LKAm7a38yTMY"
      },
      "source": [
        "## **Using Scikit Learn evauation funciton on classification ** 🛺\n"
      ]
    },
    {
      "cell_type": "code",
      "metadata": {
        "colab": {
          "base_uri": "https://localhost:8080/"
        },
        "id": "j-q-FXgpxpbu",
        "outputId": "638286d3-3e3b-495b-e8d8-478f10e134cf"
      },
      "source": [
        "import pandas as pd\n",
        "import numpy as np\n",
        "\n",
        "\n",
        "from sklearn.ensemble import RandomForestClassifier\n",
        "\n",
        "np.random.seed(42)\n",
        "\n",
        "heart_diseases = pd.read_csv(\"/content/drive/MyDrive/dataset/heart-disease.csv\")\n",
        "heart_diseases.head()\n",
        "\n",
        "X = heart_diseases.drop(\"target\",axis = 1)\n",
        "y = heart_diseases[\"target\"]\n",
        "\n",
        "from sklearn.model_selection import train_test_split\n",
        "\n",
        "X_train,X_test,y_train,y_test = train_test_split(X,y,test_size=0.2)\n",
        "\n",
        "clf = RandomForestClassifier(n_estimators=100)\n",
        "clf.fit(X_train,y_train)\n",
        "y_preds = clf.predict(X_test)\n",
        "\n",
        "y_preds"
      ],
      "execution_count": 54,
      "outputs": [
        {
          "output_type": "execute_result",
          "data": {
            "text/plain": [
              "array([0, 1, 1, 0, 1, 1, 1, 0, 0, 1, 1, 0, 1, 0, 1, 1, 1, 0, 0, 0, 0, 0,\n",
              "       1, 1, 1, 1, 1, 1, 0, 1, 0, 0, 0, 0, 1, 0, 1, 1, 1, 1, 1, 1, 1, 1,\n",
              "       1, 0, 1, 1, 0, 0, 0, 0, 1, 1, 0, 0, 0, 1, 0, 0, 0])"
            ]
          },
          "metadata": {
            "tags": []
          },
          "execution_count": 54
        }
      ]
    },
    {
      "cell_type": "code",
      "metadata": {
        "id": "rQZiByg0zD6A"
      },
      "source": [
        "from sklearn.metrics import accuracy_score,precision_score,recall_score,f1_score #import the parameters\n"
      ],
      "execution_count": 63,
      "outputs": []
    },
    {
      "cell_type": "code",
      "metadata": {
        "colab": {
          "base_uri": "https://localhost:8080/"
        },
        "id": "8yJ54xdizdUJ",
        "outputId": "b3e5a201-9327-43cf-ffaf-dc32965b48b4"
      },
      "source": [
        "accuracy_score(y_test,y_preds)"
      ],
      "execution_count": 56,
      "outputs": [
        {
          "output_type": "execute_result",
          "data": {
            "text/plain": [
              "0.8524590163934426"
            ]
          },
          "metadata": {
            "tags": []
          },
          "execution_count": 56
        }
      ]
    },
    {
      "cell_type": "code",
      "metadata": {
        "colab": {
          "base_uri": "https://localhost:8080/"
        },
        "id": "kVxyIutGzlLe",
        "outputId": "f4f4ec78-2ba3-4725-88fc-2b4da3b67fbd"
      },
      "source": [
        "precision_score(y_test,y_preds)"
      ],
      "execution_count": 59,
      "outputs": [
        {
          "output_type": "execute_result",
          "data": {
            "text/plain": [
              "0.8484848484848485"
            ]
          },
          "metadata": {
            "tags": []
          },
          "execution_count": 59
        }
      ]
    },
    {
      "cell_type": "code",
      "metadata": {
        "colab": {
          "base_uri": "https://localhost:8080/"
        },
        "id": "VIa1h2X00J7m",
        "outputId": "e56daa35-55d0-467e-b6de-885977765c0a"
      },
      "source": [
        "recall_score(y_test,y_preds)"
      ],
      "execution_count": 61,
      "outputs": [
        {
          "output_type": "execute_result",
          "data": {
            "text/plain": [
              "0.875"
            ]
          },
          "metadata": {
            "tags": []
          },
          "execution_count": 61
        }
      ]
    },
    {
      "cell_type": "code",
      "metadata": {
        "colab": {
          "base_uri": "https://localhost:8080/"
        },
        "id": "dgw7Iaj20T2r",
        "outputId": "b26c1ce4-dcd7-485d-ef9e-85081b550d19"
      },
      "source": [
        "f1_score(y_test,y_preds)"
      ],
      "execution_count": 62,
      "outputs": [
        {
          "output_type": "execute_result",
          "data": {
            "text/plain": [
              "0.8615384615384615"
            ]
          },
          "metadata": {
            "tags": []
          },
          "execution_count": 62
        }
      ]
    },
    {
      "cell_type": "markdown",
      "metadata": {
        "id": "OHddpPnr0zr1"
      },
      "source": [
        "# ***Using Scikit Learn evauation funciton on Regression ***🛹🛹"
      ]
    },
    {
      "cell_type": "code",
      "metadata": {
        "colab": {
          "base_uri": "https://localhost:8080/"
        },
        "id": "-jdd4YUU0Zo9",
        "outputId": "105f1835-98e0-4006-8985-6eccb781177b"
      },
      "source": [
        "import pandas as pd\n",
        "import numpy as np\n",
        "import matplotlib.pyplot as plt\n",
        "\n",
        "from sklearn.datasets import load_boston\n",
        "boston = load_boston()\n",
        "\n",
        "boston_df = pd.DataFrame(boston[\"data\"], columns = boston[\"feature_names\"])\n",
        "boston_df[\"target\"] = pd.Series(boston[\"target\"])\n",
        "boston_df.head()\n",
        "\n",
        "X = boston_df.drop(\"target\" , axis=1)\n",
        "y = boston_df[\"target\"]\n",
        " \n",
        "np.random.seed(42)\n",
        "\n",
        "from sklearn.model_selection import train_test_split\n",
        "X_train,X_test,y_train,y_test = train_test_split(X,y,test_size = 0.2)\n",
        "\n",
        "from sklearn.ensemble import RandomForestRegressor\n",
        "clf = RandomForestRegressor()\n",
        "clf.fit(X_train,y_train)\n",
        "clf.score(X_test,y_test)"
      ],
      "execution_count": 65,
      "outputs": [
        {
          "output_type": "execute_result",
          "data": {
            "text/plain": [
              "0.873969014117403"
            ]
          },
          "metadata": {
            "tags": []
          },
          "execution_count": 65
        }
      ]
    },
    {
      "cell_type": "code",
      "metadata": {
        "colab": {
          "base_uri": "https://localhost:8080/"
        },
        "id": "dI2BCbs01gDF",
        "outputId": "39fd3f7d-d765-454e-dd54-6428941757bc"
      },
      "source": [
        "y_preds = clf.predict(X_test)\n",
        "y_preds"
      ],
      "execution_count": 70,
      "outputs": [
        {
          "output_type": "execute_result",
          "data": {
            "text/plain": [
              "array([23.002, 30.826, 16.734, 23.467, 16.853, 21.725, 19.232, 15.239,\n",
              "       21.067, 20.738, 19.516, 19.83 ,  8.885, 21.918, 19.477, 26.465,\n",
              "       19.347,  8.039, 45.414, 14.542, 24.564, 23.941, 14.481, 23.077,\n",
              "       15.031, 14.625, 21.171, 14.164, 19.251, 20.717, 19.433, 23.242,\n",
              "       31.091, 20.39 , 14.294, 15.796, 34.3  , 19.155, 20.639, 24.464,\n",
              "       18.779, 29.688, 45.257, 19.449, 22.334, 13.727, 15.408, 24.621,\n",
              "       18.783, 28.247, 21.411, 33.961, 17.011, 26.312, 44.904, 21.988,\n",
              "       15.65 , 32.316, 22.281, 20.394, 25.405, 34.266, 28.938, 18.857,\n",
              "       26.909, 17.154, 13.731, 23.079, 28.508, 15.818, 20.41 , 28.38 ,\n",
              "       10.153, 21.336, 22.393,  7.093, 20.059, 45.424, 10.964, 12.914,\n",
              "       21.387, 12.29 , 20.234,  9.065, 20.218, 26.736, 15.531, 23.228,\n",
              "       23.568, 17.719, 21.64 ,  7.991, 19.6  , 18.7  , 22.292, 19.665,\n",
              "       38.756, 13.03 , 12.49 , 13.406, 20.219, 23.898])"
            ]
          },
          "metadata": {
            "tags": []
          },
          "execution_count": 70
        }
      ]
    },
    {
      "cell_type": "code",
      "metadata": {
        "id": "ocDJWybo0_3o"
      },
      "source": [
        "from sklearn.metrics import accuracy_score,precision_score,recall_score,f1_score #import the parameters"
      ],
      "execution_count": 71,
      "outputs": []
    },
    {
      "cell_type": "code",
      "metadata": {
        "colab": {
          "base_uri": "https://localhost:8080/"
        },
        "id": "-S72h_Sd1ESX",
        "outputId": "92b94499-830c-4c0b-95f2-c15182a69e08"
      },
      "source": [
        "r2_score(y_test,y_preds)"
      ],
      "execution_count": 72,
      "outputs": [
        {
          "output_type": "execute_result",
          "data": {
            "text/plain": [
              "0.8739690141174031"
            ]
          },
          "metadata": {
            "tags": []
          },
          "execution_count": 72
        }
      ]
    },
    {
      "cell_type": "code",
      "metadata": {
        "colab": {
          "base_uri": "https://localhost:8080/"
        },
        "id": "y_2Tlf0m1Rng",
        "outputId": "860e103d-ad3e-4e29-91dd-0bed4bd9f445"
      },
      "source": [
        "mean_absolute_error(y_test,y_preds)"
      ],
      "execution_count": 73,
      "outputs": [
        {
          "output_type": "execute_result",
          "data": {
            "text/plain": [
              "2.1226372549019623"
            ]
          },
          "metadata": {
            "tags": []
          },
          "execution_count": 73
        }
      ]
    },
    {
      "cell_type": "code",
      "metadata": {
        "colab": {
          "base_uri": "https://localhost:8080/"
        },
        "id": "KI1qz-he1tmE",
        "outputId": "c8880462-e4eb-47ae-eac3-6733a7c3c702"
      },
      "source": [
        "mean_squared_error(y_test,y_preds)"
      ],
      "execution_count": 74,
      "outputs": [
        {
          "output_type": "execute_result",
          "data": {
            "text/plain": [
              "9.242328990196082"
            ]
          },
          "metadata": {
            "tags": []
          },
          "execution_count": 74
        }
      ]
    },
    {
      "cell_type": "code",
      "metadata": {
        "id": "PLCkSEvk1xpE"
      },
      "source": [
        ""
      ],
      "execution_count": null,
      "outputs": []
    }
  ]
}