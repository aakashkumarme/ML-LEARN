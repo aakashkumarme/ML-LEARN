{
  "nbformat": 4,
  "nbformat_minor": 0,
  "metadata": {
    "colab": {
      "name": "7.Pipeline.ipynb",
      "provenance": [],
      "mount_file_id": "1_kOTFI2E_Gle5OZ-wfDTO7w0ARvouJsE",
      "authorship_tag": "ABX9TyOL4KQVVOsoy7aR1RQr6CyT",
      "include_colab_link": true
    },
    "kernelspec": {
      "name": "python3",
      "display_name": "Python 3"
    },
    "language_info": {
      "name": "python"
    }
  },
  "cells": [
    {
      "cell_type": "markdown",
      "metadata": {
        "id": "view-in-github",
        "colab_type": "text"
      },
      "source": [
        "<a href=\"https://colab.research.google.com/github/aakashkumarme/ML-LEARN/blob/main/7_Pipeline.ipynb\" target=\"_parent\"><img src=\"https://colab.research.google.com/assets/colab-badge.svg\" alt=\"Open In Colab\"/></a>"
      ]
    },
    {
      "cell_type": "code",
      "metadata": {
        "colab": {
          "base_uri": "https://localhost:8080/",
          "height": 402
        },
        "id": "caEewUmcSGXQ",
        "outputId": "d7126a7d-127b-412d-85d7-f0ee4afbc48b"
      },
      "source": [
        "import numpy as np\n",
        "import pandas as pd\n",
        "import matplotlib.pyplot as plt\n",
        "\n",
        "np.random.seed(42)\n",
        "\n",
        "data = pd.read_csv(\"/content/drive/MyDrive/dataset/car-sales-extended-missing-data.csv\")\n",
        "data\n"
      ],
      "execution_count": null,
      "outputs": [
        {
          "output_type": "execute_result",
          "data": {
            "text/html": [
              "<div>\n",
              "<style scoped>\n",
              "    .dataframe tbody tr th:only-of-type {\n",
              "        vertical-align: middle;\n",
              "    }\n",
              "\n",
              "    .dataframe tbody tr th {\n",
              "        vertical-align: top;\n",
              "    }\n",
              "\n",
              "    .dataframe thead th {\n",
              "        text-align: right;\n",
              "    }\n",
              "</style>\n",
              "<table border=\"1\" class=\"dataframe\">\n",
              "  <thead>\n",
              "    <tr style=\"text-align: right;\">\n",
              "      <th></th>\n",
              "      <th>Make</th>\n",
              "      <th>Colour</th>\n",
              "      <th>Odometer (KM)</th>\n",
              "      <th>Doors</th>\n",
              "      <th>Price</th>\n",
              "    </tr>\n",
              "  </thead>\n",
              "  <tbody>\n",
              "    <tr>\n",
              "      <th>0</th>\n",
              "      <td>Honda</td>\n",
              "      <td>White</td>\n",
              "      <td>35431.0</td>\n",
              "      <td>4.0</td>\n",
              "      <td>15323.0</td>\n",
              "    </tr>\n",
              "    <tr>\n",
              "      <th>1</th>\n",
              "      <td>BMW</td>\n",
              "      <td>Blue</td>\n",
              "      <td>192714.0</td>\n",
              "      <td>5.0</td>\n",
              "      <td>19943.0</td>\n",
              "    </tr>\n",
              "    <tr>\n",
              "      <th>2</th>\n",
              "      <td>Honda</td>\n",
              "      <td>White</td>\n",
              "      <td>84714.0</td>\n",
              "      <td>4.0</td>\n",
              "      <td>28343.0</td>\n",
              "    </tr>\n",
              "    <tr>\n",
              "      <th>3</th>\n",
              "      <td>Toyota</td>\n",
              "      <td>White</td>\n",
              "      <td>154365.0</td>\n",
              "      <td>4.0</td>\n",
              "      <td>13434.0</td>\n",
              "    </tr>\n",
              "    <tr>\n",
              "      <th>4</th>\n",
              "      <td>Nissan</td>\n",
              "      <td>Blue</td>\n",
              "      <td>181577.0</td>\n",
              "      <td>3.0</td>\n",
              "      <td>14043.0</td>\n",
              "    </tr>\n",
              "    <tr>\n",
              "      <th>...</th>\n",
              "      <td>...</td>\n",
              "      <td>...</td>\n",
              "      <td>...</td>\n",
              "      <td>...</td>\n",
              "      <td>...</td>\n",
              "    </tr>\n",
              "    <tr>\n",
              "      <th>995</th>\n",
              "      <td>Toyota</td>\n",
              "      <td>Black</td>\n",
              "      <td>35820.0</td>\n",
              "      <td>4.0</td>\n",
              "      <td>32042.0</td>\n",
              "    </tr>\n",
              "    <tr>\n",
              "      <th>996</th>\n",
              "      <td>NaN</td>\n",
              "      <td>White</td>\n",
              "      <td>155144.0</td>\n",
              "      <td>3.0</td>\n",
              "      <td>5716.0</td>\n",
              "    </tr>\n",
              "    <tr>\n",
              "      <th>997</th>\n",
              "      <td>Nissan</td>\n",
              "      <td>Blue</td>\n",
              "      <td>66604.0</td>\n",
              "      <td>4.0</td>\n",
              "      <td>31570.0</td>\n",
              "    </tr>\n",
              "    <tr>\n",
              "      <th>998</th>\n",
              "      <td>Honda</td>\n",
              "      <td>White</td>\n",
              "      <td>215883.0</td>\n",
              "      <td>4.0</td>\n",
              "      <td>4001.0</td>\n",
              "    </tr>\n",
              "    <tr>\n",
              "      <th>999</th>\n",
              "      <td>Toyota</td>\n",
              "      <td>Blue</td>\n",
              "      <td>248360.0</td>\n",
              "      <td>4.0</td>\n",
              "      <td>12732.0</td>\n",
              "    </tr>\n",
              "  </tbody>\n",
              "</table>\n",
              "<p>1000 rows × 5 columns</p>\n",
              "</div>"
            ],
            "text/plain": [
              "       Make Colour  Odometer (KM)  Doors    Price\n",
              "0     Honda  White        35431.0    4.0  15323.0\n",
              "1       BMW   Blue       192714.0    5.0  19943.0\n",
              "2     Honda  White        84714.0    4.0  28343.0\n",
              "3    Toyota  White       154365.0    4.0  13434.0\n",
              "4    Nissan   Blue       181577.0    3.0  14043.0\n",
              "..      ...    ...            ...    ...      ...\n",
              "995  Toyota  Black        35820.0    4.0  32042.0\n",
              "996     NaN  White       155144.0    3.0   5716.0\n",
              "997  Nissan   Blue        66604.0    4.0  31570.0\n",
              "998   Honda  White       215883.0    4.0   4001.0\n",
              "999  Toyota   Blue       248360.0    4.0  12732.0\n",
              "\n",
              "[1000 rows x 5 columns]"
            ]
          },
          "metadata": {
            "tags": []
          },
          "execution_count": 1
        }
      ]
    },
    {
      "cell_type": "code",
      "metadata": {
        "colab": {
          "base_uri": "https://localhost:8080/"
        },
        "id": "FnneQESZTUdG",
        "outputId": "bccbe78f-8047-4c3f-97fd-ce7e84face82"
      },
      "source": [
        "data.dtypes"
      ],
      "execution_count": null,
      "outputs": [
        {
          "output_type": "execute_result",
          "data": {
            "text/plain": [
              "Make              object\n",
              "Colour            object\n",
              "Odometer (KM)    float64\n",
              "Doors            float64\n",
              "Price            float64\n",
              "dtype: object"
            ]
          },
          "metadata": {
            "tags": []
          },
          "execution_count": 3
        }
      ]
    },
    {
      "cell_type": "code",
      "metadata": {
        "colab": {
          "base_uri": "https://localhost:8080/"
        },
        "id": "xi-UX-YiTXzG",
        "outputId": "d09e2f8c-a643-4f64-b069-96d672be25d3"
      },
      "source": [
        "data.isna().sum()"
      ],
      "execution_count": null,
      "outputs": [
        {
          "output_type": "execute_result",
          "data": {
            "text/plain": [
              "Make             49\n",
              "Colour           50\n",
              "Odometer (KM)    50\n",
              "Doors            50\n",
              "Price            50\n",
              "dtype: int64"
            ]
          },
          "metadata": {
            "tags": []
          },
          "execution_count": 4
        }
      ]
    },
    {
      "cell_type": "markdown",
      "metadata": {
        "id": "PZM2uvEqTfUW"
      },
      "source": [
        "#Steps to do:\n",
        "\n",
        "\n",
        "1.   Fill missing data\n",
        "2.   Convert data to numbers\n",
        "3.   Build a model on the data\n",
        "\n",
        "\n"
      ]
    },
    {
      "cell_type": "code",
      "metadata": {
        "colab": {
          "base_uri": "https://localhost:8080/"
        },
        "id": "kBetX3yuT96c",
        "outputId": "c99924bc-c6e4-411a-bf23-7522361040a2"
      },
      "source": [
        "#Getting data ready\n",
        "from sklearn.compose import ColumnTransformer\n",
        "from sklearn.pipeline import Pipeline\n",
        "from sklearn.impute import SimpleImputer\n",
        "from sklearn.preprocessing import OneHotEncoder\n",
        "\n",
        "#Modelling\n",
        "from sklearn.ensemble import RandomForestRegressor\n",
        "from sklearn.model_selection import train_test_split\n",
        "\n",
        "\n",
        "#drop missing values where targets are missing\n",
        "data.dropna(subset=[\"Price\"], inplace=True)\n",
        "print(len(data))"
      ],
      "execution_count": null,
      "outputs": [
        {
          "output_type": "stream",
          "text": [
            "950\n"
          ],
          "name": "stdout"
        }
      ]
    },
    {
      "cell_type": "code",
      "metadata": {
        "colab": {
          "base_uri": "https://localhost:8080/"
        },
        "id": "j_3wOKUQUnVf",
        "outputId": "d20bfe94-d3d0-4779-cef4-bc60684d53bf"
      },
      "source": [
        "#Define features\n",
        "categorical_features = ['Make','Colour']\n",
        "categorical_transformer = Pipeline(steps=[\n",
        "                                          (\"imputer\" ,SimpleImputer(strategy=\"constant\",fill_value=\"missing\")),\n",
        "                                          (\"onehot\",OneHotEncoder(handle_unknown=\"ignore\"))\n",
        "])\n",
        "\n",
        "\n",
        "\n",
        "door_feature = [\"Doors\"]\n",
        "door_transformer = Pipeline(steps=[\n",
        "                                   (\"imputer\" , SimpleImputer(strategy=\"constant\",fill_value=4))\n",
        "])\n",
        "\n",
        "\n",
        "\n",
        "numeric_feature = [\"Odometer (KM)\"]\n",
        "numeric_transformer = Pipeline(steps=[\n",
        "                                    (\"imputer\" , SimpleImputer(strategy=\"mean\"))])\n",
        "################################################################################\n",
        "\n",
        "#Setup preprocessing steps (fill missing values and convert to numbers)\n",
        "preprocessor = ColumnTransformer(\n",
        "    transformers=[\n",
        "                  (\"cat\" , categorical_transformer,categorical_features),\n",
        "                  (\"door\",door_transformer,door_feature),\n",
        "                  (\"num\", numeric_transformer,numeric_feature)\n",
        "                  ])\n",
        "\n",
        "################################################################################\n",
        "\n",
        "model = Pipeline(steps=[(\"preprocessor\",preprocessor),\n",
        "                        (\"model\",RandomForestRegressor())])\n",
        "\n",
        "################################################################################\n",
        "\n",
        "X = data.drop(\"Price\",axis=1)\n",
        "y = data[\"Price\"]\n",
        "X_train,X_test,y_train,y_test = train_test_split(X,y,test_size=0.2)\n",
        "\n",
        "model.fit(X_train,y_train)\n",
        "model.score(X_test,y_test)"
      ],
      "execution_count": null,
      "outputs": [
        {
          "output_type": "execute_result",
          "data": {
            "text/plain": [
              "0.3008111853212634"
            ]
          },
          "metadata": {
            "tags": []
          },
          "execution_count": 35
        }
      ]
    },
    {
      "cell_type": "code",
      "metadata": {
        "colab": {
          "base_uri": "https://localhost:8080/"
        },
        "id": "8eCBOq-Sbnj4",
        "outputId": "3fa982e5-cc45-4261-97ee-c0720d465df2"
      },
      "source": [
        "#use GridSearch CV\n",
        "from sklearn.model_selection import GridSearchCV\n",
        "pipe_grid = {\n",
        "    \"preprocessor__num__imputer__strategy\" : [\"mean\" , \"median\"],\n",
        "    \"model__n_estimators\" : [100,1000],\n",
        "    \"model__max_depth\": [None,5],\n",
        "    \"model__max_features\" : [\"auto\"],\n",
        "    \"model__min_impurity_split\": [None]\n",
        "}\n",
        "\n",
        "gs_model = GridSearchCV(model,pipe_grid , cv=5 , verbose=2  )\n",
        "gs_model.fit(X_train,y_train)"
      ],
      "execution_count": null,
      "outputs": [
        {
          "output_type": "stream",
          "text": [
            "Fitting 5 folds for each of 8 candidates, totalling 40 fits\n",
            "[CV] model__max_depth=None, model__max_features=auto, model__min_impurity_split=None, model__n_estimators=100, preprocessor__num__imputer__strategy=mean \n"
          ],
          "name": "stdout"
        },
        {
          "output_type": "stream",
          "text": [
            "[Parallel(n_jobs=1)]: Using backend SequentialBackend with 1 concurrent workers.\n"
          ],
          "name": "stderr"
        },
        {
          "output_type": "stream",
          "text": [
            "[CV]  model__max_depth=None, model__max_features=auto, model__min_impurity_split=None, model__n_estimators=100, preprocessor__num__imputer__strategy=mean, total=   0.3s\n",
            "[CV] model__max_depth=None, model__max_features=auto, model__min_impurity_split=None, model__n_estimators=100, preprocessor__num__imputer__strategy=mean \n"
          ],
          "name": "stdout"
        },
        {
          "output_type": "stream",
          "text": [
            "[Parallel(n_jobs=1)]: Done   1 out of   1 | elapsed:    0.3s remaining:    0.0s\n"
          ],
          "name": "stderr"
        },
        {
          "output_type": "stream",
          "text": [
            "[CV]  model__max_depth=None, model__max_features=auto, model__min_impurity_split=None, model__n_estimators=100, preprocessor__num__imputer__strategy=mean, total=   0.3s\n",
            "[CV] model__max_depth=None, model__max_features=auto, model__min_impurity_split=None, model__n_estimators=100, preprocessor__num__imputer__strategy=mean \n",
            "[CV]  model__max_depth=None, model__max_features=auto, model__min_impurity_split=None, model__n_estimators=100, preprocessor__num__imputer__strategy=mean, total=   0.3s\n",
            "[CV] model__max_depth=None, model__max_features=auto, model__min_impurity_split=None, model__n_estimators=100, preprocessor__num__imputer__strategy=mean \n",
            "[CV]  model__max_depth=None, model__max_features=auto, model__min_impurity_split=None, model__n_estimators=100, preprocessor__num__imputer__strategy=mean, total=   0.3s\n",
            "[CV] model__max_depth=None, model__max_features=auto, model__min_impurity_split=None, model__n_estimators=100, preprocessor__num__imputer__strategy=mean \n",
            "[CV]  model__max_depth=None, model__max_features=auto, model__min_impurity_split=None, model__n_estimators=100, preprocessor__num__imputer__strategy=mean, total=   0.3s\n",
            "[CV] model__max_depth=None, model__max_features=auto, model__min_impurity_split=None, model__n_estimators=100, preprocessor__num__imputer__strategy=median \n",
            "[CV]  model__max_depth=None, model__max_features=auto, model__min_impurity_split=None, model__n_estimators=100, preprocessor__num__imputer__strategy=median, total=   0.3s\n",
            "[CV] model__max_depth=None, model__max_features=auto, model__min_impurity_split=None, model__n_estimators=100, preprocessor__num__imputer__strategy=median \n",
            "[CV]  model__max_depth=None, model__max_features=auto, model__min_impurity_split=None, model__n_estimators=100, preprocessor__num__imputer__strategy=median, total=   0.3s\n",
            "[CV] model__max_depth=None, model__max_features=auto, model__min_impurity_split=None, model__n_estimators=100, preprocessor__num__imputer__strategy=median \n",
            "[CV]  model__max_depth=None, model__max_features=auto, model__min_impurity_split=None, model__n_estimators=100, preprocessor__num__imputer__strategy=median, total=   0.3s\n",
            "[CV] model__max_depth=None, model__max_features=auto, model__min_impurity_split=None, model__n_estimators=100, preprocessor__num__imputer__strategy=median \n",
            "[CV]  model__max_depth=None, model__max_features=auto, model__min_impurity_split=None, model__n_estimators=100, preprocessor__num__imputer__strategy=median, total=   0.3s\n",
            "[CV] model__max_depth=None, model__max_features=auto, model__min_impurity_split=None, model__n_estimators=100, preprocessor__num__imputer__strategy=median \n",
            "[CV]  model__max_depth=None, model__max_features=auto, model__min_impurity_split=None, model__n_estimators=100, preprocessor__num__imputer__strategy=median, total=   0.3s\n",
            "[CV] model__max_depth=None, model__max_features=auto, model__min_impurity_split=None, model__n_estimators=1000, preprocessor__num__imputer__strategy=mean \n",
            "[CV]  model__max_depth=None, model__max_features=auto, model__min_impurity_split=None, model__n_estimators=1000, preprocessor__num__imputer__strategy=mean, total=   2.6s\n",
            "[CV] model__max_depth=None, model__max_features=auto, model__min_impurity_split=None, model__n_estimators=1000, preprocessor__num__imputer__strategy=mean \n",
            "[CV]  model__max_depth=None, model__max_features=auto, model__min_impurity_split=None, model__n_estimators=1000, preprocessor__num__imputer__strategy=mean, total=   2.5s\n",
            "[CV] model__max_depth=None, model__max_features=auto, model__min_impurity_split=None, model__n_estimators=1000, preprocessor__num__imputer__strategy=mean \n",
            "[CV]  model__max_depth=None, model__max_features=auto, model__min_impurity_split=None, model__n_estimators=1000, preprocessor__num__imputer__strategy=mean, total=   2.5s\n",
            "[CV] model__max_depth=None, model__max_features=auto, model__min_impurity_split=None, model__n_estimators=1000, preprocessor__num__imputer__strategy=mean \n",
            "[CV]  model__max_depth=None, model__max_features=auto, model__min_impurity_split=None, model__n_estimators=1000, preprocessor__num__imputer__strategy=mean, total=   2.5s\n",
            "[CV] model__max_depth=None, model__max_features=auto, model__min_impurity_split=None, model__n_estimators=1000, preprocessor__num__imputer__strategy=mean \n",
            "[CV]  model__max_depth=None, model__max_features=auto, model__min_impurity_split=None, model__n_estimators=1000, preprocessor__num__imputer__strategy=mean, total=   2.5s\n",
            "[CV] model__max_depth=None, model__max_features=auto, model__min_impurity_split=None, model__n_estimators=1000, preprocessor__num__imputer__strategy=median \n",
            "[CV]  model__max_depth=None, model__max_features=auto, model__min_impurity_split=None, model__n_estimators=1000, preprocessor__num__imputer__strategy=median, total=   2.5s\n",
            "[CV] model__max_depth=None, model__max_features=auto, model__min_impurity_split=None, model__n_estimators=1000, preprocessor__num__imputer__strategy=median \n",
            "[CV]  model__max_depth=None, model__max_features=auto, model__min_impurity_split=None, model__n_estimators=1000, preprocessor__num__imputer__strategy=median, total=   2.5s\n",
            "[CV] model__max_depth=None, model__max_features=auto, model__min_impurity_split=None, model__n_estimators=1000, preprocessor__num__imputer__strategy=median \n",
            "[CV]  model__max_depth=None, model__max_features=auto, model__min_impurity_split=None, model__n_estimators=1000, preprocessor__num__imputer__strategy=median, total=   2.5s\n",
            "[CV] model__max_depth=None, model__max_features=auto, model__min_impurity_split=None, model__n_estimators=1000, preprocessor__num__imputer__strategy=median \n",
            "[CV]  model__max_depth=None, model__max_features=auto, model__min_impurity_split=None, model__n_estimators=1000, preprocessor__num__imputer__strategy=median, total=   2.5s\n",
            "[CV] model__max_depth=None, model__max_features=auto, model__min_impurity_split=None, model__n_estimators=1000, preprocessor__num__imputer__strategy=median \n",
            "[CV]  model__max_depth=None, model__max_features=auto, model__min_impurity_split=None, model__n_estimators=1000, preprocessor__num__imputer__strategy=median, total=   2.5s\n",
            "[CV] model__max_depth=5, model__max_features=auto, model__min_impurity_split=None, model__n_estimators=100, preprocessor__num__imputer__strategy=mean \n",
            "[CV]  model__max_depth=5, model__max_features=auto, model__min_impurity_split=None, model__n_estimators=100, preprocessor__num__imputer__strategy=mean, total=   0.2s\n",
            "[CV] model__max_depth=5, model__max_features=auto, model__min_impurity_split=None, model__n_estimators=100, preprocessor__num__imputer__strategy=mean \n",
            "[CV]  model__max_depth=5, model__max_features=auto, model__min_impurity_split=None, model__n_estimators=100, preprocessor__num__imputer__strategy=mean, total=   0.2s\n",
            "[CV] model__max_depth=5, model__max_features=auto, model__min_impurity_split=None, model__n_estimators=100, preprocessor__num__imputer__strategy=mean \n",
            "[CV]  model__max_depth=5, model__max_features=auto, model__min_impurity_split=None, model__n_estimators=100, preprocessor__num__imputer__strategy=mean, total=   0.2s\n",
            "[CV] model__max_depth=5, model__max_features=auto, model__min_impurity_split=None, model__n_estimators=100, preprocessor__num__imputer__strategy=mean \n",
            "[CV]  model__max_depth=5, model__max_features=auto, model__min_impurity_split=None, model__n_estimators=100, preprocessor__num__imputer__strategy=mean, total=   0.2s\n",
            "[CV] model__max_depth=5, model__max_features=auto, model__min_impurity_split=None, model__n_estimators=100, preprocessor__num__imputer__strategy=mean \n",
            "[CV]  model__max_depth=5, model__max_features=auto, model__min_impurity_split=None, model__n_estimators=100, preprocessor__num__imputer__strategy=mean, total=   0.2s\n",
            "[CV] model__max_depth=5, model__max_features=auto, model__min_impurity_split=None, model__n_estimators=100, preprocessor__num__imputer__strategy=median \n",
            "[CV]  model__max_depth=5, model__max_features=auto, model__min_impurity_split=None, model__n_estimators=100, preprocessor__num__imputer__strategy=median, total=   0.2s\n",
            "[CV] model__max_depth=5, model__max_features=auto, model__min_impurity_split=None, model__n_estimators=100, preprocessor__num__imputer__strategy=median \n",
            "[CV]  model__max_depth=5, model__max_features=auto, model__min_impurity_split=None, model__n_estimators=100, preprocessor__num__imputer__strategy=median, total=   0.2s\n",
            "[CV] model__max_depth=5, model__max_features=auto, model__min_impurity_split=None, model__n_estimators=100, preprocessor__num__imputer__strategy=median \n",
            "[CV]  model__max_depth=5, model__max_features=auto, model__min_impurity_split=None, model__n_estimators=100, preprocessor__num__imputer__strategy=median, total=   0.2s\n",
            "[CV] model__max_depth=5, model__max_features=auto, model__min_impurity_split=None, model__n_estimators=100, preprocessor__num__imputer__strategy=median \n",
            "[CV]  model__max_depth=5, model__max_features=auto, model__min_impurity_split=None, model__n_estimators=100, preprocessor__num__imputer__strategy=median, total=   0.2s\n",
            "[CV] model__max_depth=5, model__max_features=auto, model__min_impurity_split=None, model__n_estimators=100, preprocessor__num__imputer__strategy=median \n",
            "[CV]  model__max_depth=5, model__max_features=auto, model__min_impurity_split=None, model__n_estimators=100, preprocessor__num__imputer__strategy=median, total=   0.2s\n",
            "[CV] model__max_depth=5, model__max_features=auto, model__min_impurity_split=None, model__n_estimators=1000, preprocessor__num__imputer__strategy=mean \n",
            "[CV]  model__max_depth=5, model__max_features=auto, model__min_impurity_split=None, model__n_estimators=1000, preprocessor__num__imputer__strategy=mean, total=   1.7s\n",
            "[CV] model__max_depth=5, model__max_features=auto, model__min_impurity_split=None, model__n_estimators=1000, preprocessor__num__imputer__strategy=mean \n",
            "[CV]  model__max_depth=5, model__max_features=auto, model__min_impurity_split=None, model__n_estimators=1000, preprocessor__num__imputer__strategy=mean, total=   1.7s\n",
            "[CV] model__max_depth=5, model__max_features=auto, model__min_impurity_split=None, model__n_estimators=1000, preprocessor__num__imputer__strategy=mean \n",
            "[CV]  model__max_depth=5, model__max_features=auto, model__min_impurity_split=None, model__n_estimators=1000, preprocessor__num__imputer__strategy=mean, total=   1.7s\n",
            "[CV] model__max_depth=5, model__max_features=auto, model__min_impurity_split=None, model__n_estimators=1000, preprocessor__num__imputer__strategy=mean \n",
            "[CV]  model__max_depth=5, model__max_features=auto, model__min_impurity_split=None, model__n_estimators=1000, preprocessor__num__imputer__strategy=mean, total=   1.8s\n",
            "[CV] model__max_depth=5, model__max_features=auto, model__min_impurity_split=None, model__n_estimators=1000, preprocessor__num__imputer__strategy=mean \n",
            "[CV]  model__max_depth=5, model__max_features=auto, model__min_impurity_split=None, model__n_estimators=1000, preprocessor__num__imputer__strategy=mean, total=   1.7s\n",
            "[CV] model__max_depth=5, model__max_features=auto, model__min_impurity_split=None, model__n_estimators=1000, preprocessor__num__imputer__strategy=median \n",
            "[CV]  model__max_depth=5, model__max_features=auto, model__min_impurity_split=None, model__n_estimators=1000, preprocessor__num__imputer__strategy=median, total=   1.7s\n",
            "[CV] model__max_depth=5, model__max_features=auto, model__min_impurity_split=None, model__n_estimators=1000, preprocessor__num__imputer__strategy=median \n",
            "[CV]  model__max_depth=5, model__max_features=auto, model__min_impurity_split=None, model__n_estimators=1000, preprocessor__num__imputer__strategy=median, total=   1.7s\n",
            "[CV] model__max_depth=5, model__max_features=auto, model__min_impurity_split=None, model__n_estimators=1000, preprocessor__num__imputer__strategy=median \n",
            "[CV]  model__max_depth=5, model__max_features=auto, model__min_impurity_split=None, model__n_estimators=1000, preprocessor__num__imputer__strategy=median, total=   1.7s\n",
            "[CV] model__max_depth=5, model__max_features=auto, model__min_impurity_split=None, model__n_estimators=1000, preprocessor__num__imputer__strategy=median \n",
            "[CV]  model__max_depth=5, model__max_features=auto, model__min_impurity_split=None, model__n_estimators=1000, preprocessor__num__imputer__strategy=median, total=   1.7s\n",
            "[CV] model__max_depth=5, model__max_features=auto, model__min_impurity_split=None, model__n_estimators=1000, preprocessor__num__imputer__strategy=median \n",
            "[CV]  model__max_depth=5, model__max_features=auto, model__min_impurity_split=None, model__n_estimators=1000, preprocessor__num__imputer__strategy=median, total=   1.7s\n"
          ],
          "name": "stdout"
        },
        {
          "output_type": "stream",
          "text": [
            "[Parallel(n_jobs=1)]: Done  40 out of  40 | elapsed:   47.2s finished\n"
          ],
          "name": "stderr"
        },
        {
          "output_type": "execute_result",
          "data": {
            "text/plain": [
              "GridSearchCV(cv=5, error_score=nan,\n",
              "             estimator=Pipeline(memory=None,\n",
              "                                steps=[('preprocessor',\n",
              "                                        ColumnTransformer(n_jobs=None,\n",
              "                                                          remainder='drop',\n",
              "                                                          sparse_threshold=0.3,\n",
              "                                                          transformer_weights=None,\n",
              "                                                          transformers=[('cat',\n",
              "                                                                         Pipeline(memory=None,\n",
              "                                                                                  steps=[('imputer',\n",
              "                                                                                          SimpleImputer(add_indicator=False,\n",
              "                                                                                                        copy=True,\n",
              "                                                                                                        fill_value='missing',\n",
              "                                                                                                        missing_values=nan,\n",
              "                                                                                                        strategy='constant',\n",
              "                                                                                                        verbo...\n",
              "                                                              verbose=0,\n",
              "                                                              warm_start=False))],\n",
              "                                verbose=False),\n",
              "             iid='deprecated', n_jobs=None,\n",
              "             param_grid={'model__max_depth': [None, 5],\n",
              "                         'model__max_features': ['auto'],\n",
              "                         'model__min_impurity_split': [None],\n",
              "                         'model__n_estimators': [100, 1000],\n",
              "                         'preprocessor__num__imputer__strategy': ['mean',\n",
              "                                                                  'median']},\n",
              "             pre_dispatch='2*n_jobs', refit=True, return_train_score=False,\n",
              "             scoring=None, verbose=2)"
            ]
          },
          "metadata": {
            "tags": []
          },
          "execution_count": 46
        }
      ]
    },
    {
      "cell_type": "code",
      "metadata": {
        "id": "xwUO2ulNdz8d"
      },
      "source": [
        ""
      ],
      "execution_count": null,
      "outputs": []
    }
  ]
}